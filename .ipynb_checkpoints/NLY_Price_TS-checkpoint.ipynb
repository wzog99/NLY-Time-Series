{
 "cells": [
  {
   "cell_type": "code",
   "execution_count": 4,
   "metadata": {},
   "outputs": [],
   "source": [
    "import pandas as pd\n",
    "import requests\n",
    "import matplotlib.pyplot as plt\n",
    "import seaborn as sns\n",
    "import numpy as np\n",
    "from scipy import stats"
   ]
  },
  {
   "cell_type": "code",
   "execution_count": 40,
   "metadata": {},
   "outputs": [],
   "source": [
    "data = requests.get('https://www.alphavantage.co/query?function=TIME_SERIES_DAILY&symbol=nly&outputsize=full&apikey=9HXBL1MHLXSUW3XP')\n",
    "data = data.json()"
   ]
  },
  {
   "cell_type": "code",
   "execution_count": 41,
   "metadata": {},
   "outputs": [
    {
     "data": {
      "text/plain": [
       "{'1. Information': 'Daily Prices (open, high, low, close) and Volumes',\n",
       " '2. Symbol': 'nly',\n",
       " '3. Last Refreshed': '2020-01-03',\n",
       " '4. Output Size': 'Full size',\n",
       " '5. Time Zone': 'US/Eastern'}"
      ]
     },
     "execution_count": 41,
     "metadata": {},
     "output_type": "execute_result"
    }
   ],
   "source": [
    "data['Meta Data']"
   ]
  },
  {
   "cell_type": "code",
   "execution_count": 42,
   "metadata": {},
   "outputs": [],
   "source": [
    "df = pd.DataFrame.from_dict(data['Time Series (Daily)'], orient = 'index')"
   ]
  },
  {
   "cell_type": "code",
   "execution_count": 48,
   "metadata": {},
   "outputs": [],
   "source": [
    "df.index = pd.to_datetime(df.index)"
   ]
  },
  {
   "cell_type": "code",
   "execution_count": 52,
   "metadata": {},
   "outputs": [
    {
     "data": {
      "text/plain": [
       "Timestamp('2020-01-03 00:00:00')"
      ]
     },
     "execution_count": 52,
     "metadata": {},
     "output_type": "execute_result"
    }
   ],
   "source": [
    "df.index[0]"
   ]
  },
  {
   "cell_type": "code",
   "execution_count": 53,
   "metadata": {},
   "outputs": [
    {
     "data": {
      "text/html": [
       "<div>\n",
       "<style scoped>\n",
       "    .dataframe tbody tr th:only-of-type {\n",
       "        vertical-align: middle;\n",
       "    }\n",
       "\n",
       "    .dataframe tbody tr th {\n",
       "        vertical-align: top;\n",
       "    }\n",
       "\n",
       "    .dataframe thead th {\n",
       "        text-align: right;\n",
       "    }\n",
       "</style>\n",
       "<table border=\"1\" class=\"dataframe\">\n",
       "  <thead>\n",
       "    <tr style=\"text-align: right;\">\n",
       "      <th></th>\n",
       "      <th>1. open</th>\n",
       "      <th>2. high</th>\n",
       "      <th>3. low</th>\n",
       "      <th>4. close</th>\n",
       "      <th>5. volume</th>\n",
       "    </tr>\n",
       "  </thead>\n",
       "  <tbody>\n",
       "    <tr>\n",
       "      <td>2020-01-03</td>\n",
       "      <td>9.4100</td>\n",
       "      <td>9.4900</td>\n",
       "      <td>9.4100</td>\n",
       "      <td>9.4300</td>\n",
       "      <td>9443175</td>\n",
       "    </tr>\n",
       "    <tr>\n",
       "      <td>2020-01-02</td>\n",
       "      <td>9.4300</td>\n",
       "      <td>9.4800</td>\n",
       "      <td>9.3700</td>\n",
       "      <td>9.4800</td>\n",
       "      <td>10589502</td>\n",
       "    </tr>\n",
       "    <tr>\n",
       "      <td>2019-12-31</td>\n",
       "      <td>9.3800</td>\n",
       "      <td>9.4600</td>\n",
       "      <td>9.3800</td>\n",
       "      <td>9.4200</td>\n",
       "      <td>10793469</td>\n",
       "    </tr>\n",
       "    <tr>\n",
       "      <td>2019-12-30</td>\n",
       "      <td>9.5200</td>\n",
       "      <td>9.5403</td>\n",
       "      <td>9.3800</td>\n",
       "      <td>9.4200</td>\n",
       "      <td>13336398</td>\n",
       "    </tr>\n",
       "    <tr>\n",
       "      <td>2019-12-27</td>\n",
       "      <td>9.7700</td>\n",
       "      <td>9.8000</td>\n",
       "      <td>9.7400</td>\n",
       "      <td>9.7500</td>\n",
       "      <td>13126753</td>\n",
       "    </tr>\n",
       "  </tbody>\n",
       "</table>\n",
       "</div>"
      ],
      "text/plain": [
       "           1. open 2. high  3. low 4. close 5. volume\n",
       "2020-01-03  9.4100  9.4900  9.4100   9.4300   9443175\n",
       "2020-01-02  9.4300  9.4800  9.3700   9.4800  10589502\n",
       "2019-12-31  9.3800  9.4600  9.3800   9.4200  10793469\n",
       "2019-12-30  9.5200  9.5403  9.3800   9.4200  13336398\n",
       "2019-12-27  9.7700  9.8000  9.7400   9.7500  13126753"
      ]
     },
     "execution_count": 53,
     "metadata": {},
     "output_type": "execute_result"
    }
   ],
   "source": [
    "df.head()"
   ]
  },
  {
   "cell_type": "code",
   "execution_count": 57,
   "metadata": {},
   "outputs": [],
   "source": [
    "df.columns = ['open', 'high', 'low', 'close', 'volume']"
   ]
  },
  {
   "cell_type": "code",
   "execution_count": 58,
   "metadata": {},
   "outputs": [
    {
     "data": {
      "text/html": [
       "<div>\n",
       "<style scoped>\n",
       "    .dataframe tbody tr th:only-of-type {\n",
       "        vertical-align: middle;\n",
       "    }\n",
       "\n",
       "    .dataframe tbody tr th {\n",
       "        vertical-align: top;\n",
       "    }\n",
       "\n",
       "    .dataframe thead th {\n",
       "        text-align: right;\n",
       "    }\n",
       "</style>\n",
       "<table border=\"1\" class=\"dataframe\">\n",
       "  <thead>\n",
       "    <tr style=\"text-align: right;\">\n",
       "      <th></th>\n",
       "      <th>open</th>\n",
       "      <th>high</th>\n",
       "      <th>low</th>\n",
       "      <th>close</th>\n",
       "      <th>volume</th>\n",
       "    </tr>\n",
       "  </thead>\n",
       "  <tbody>\n",
       "    <tr>\n",
       "      <td>2020-01-03</td>\n",
       "      <td>9.4100</td>\n",
       "      <td>9.4900</td>\n",
       "      <td>9.4100</td>\n",
       "      <td>9.4300</td>\n",
       "      <td>9443175</td>\n",
       "    </tr>\n",
       "    <tr>\n",
       "      <td>2020-01-02</td>\n",
       "      <td>9.4300</td>\n",
       "      <td>9.4800</td>\n",
       "      <td>9.3700</td>\n",
       "      <td>9.4800</td>\n",
       "      <td>10589502</td>\n",
       "    </tr>\n",
       "    <tr>\n",
       "      <td>2019-12-31</td>\n",
       "      <td>9.3800</td>\n",
       "      <td>9.4600</td>\n",
       "      <td>9.3800</td>\n",
       "      <td>9.4200</td>\n",
       "      <td>10793469</td>\n",
       "    </tr>\n",
       "    <tr>\n",
       "      <td>2019-12-30</td>\n",
       "      <td>9.5200</td>\n",
       "      <td>9.5403</td>\n",
       "      <td>9.3800</td>\n",
       "      <td>9.4200</td>\n",
       "      <td>13336398</td>\n",
       "    </tr>\n",
       "    <tr>\n",
       "      <td>2019-12-27</td>\n",
       "      <td>9.7700</td>\n",
       "      <td>9.8000</td>\n",
       "      <td>9.7400</td>\n",
       "      <td>9.7500</td>\n",
       "      <td>13126753</td>\n",
       "    </tr>\n",
       "  </tbody>\n",
       "</table>\n",
       "</div>"
      ],
      "text/plain": [
       "              open    high     low   close    volume\n",
       "2020-01-03  9.4100  9.4900  9.4100  9.4300   9443175\n",
       "2020-01-02  9.4300  9.4800  9.3700  9.4800  10589502\n",
       "2019-12-31  9.3800  9.4600  9.3800  9.4200  10793469\n",
       "2019-12-30  9.5200  9.5403  9.3800  9.4200  13336398\n",
       "2019-12-27  9.7700  9.8000  9.7400  9.7500  13126753"
      ]
     },
     "execution_count": 58,
     "metadata": {},
     "output_type": "execute_result"
    }
   ],
   "source": []
  },
  {
   "cell_type": "code",
   "execution_count": null,
   "metadata": {},
   "outputs": [],
   "source": []
  }
 ],
 "metadata": {
  "kernelspec": {
   "display_name": "Python 3",
   "language": "python",
   "name": "python3"
  },
  "language_info": {
   "codemirror_mode": {
    "name": "ipython",
    "version": 3
   },
   "file_extension": ".py",
   "mimetype": "text/x-python",
   "name": "python",
   "nbconvert_exporter": "python",
   "pygments_lexer": "ipython3",
   "version": "3.7.4"
  }
 },
 "nbformat": 4,
 "nbformat_minor": 4
}
