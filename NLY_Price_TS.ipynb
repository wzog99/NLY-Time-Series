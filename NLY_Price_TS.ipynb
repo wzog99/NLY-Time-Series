{
 "cells": [
  {
   "cell_type": "code",
   "execution_count": 1,
   "metadata": {},
   "outputs": [],
   "source": [
    "import pandas as pd\n",
    "import requests\n",
    "import matplotlib.pyplot as plt\n",
    "import seaborn as sns\n",
    "import numpy as np\n",
    "from scipy import stats"
   ]
  },
  {
   "cell_type": "code",
   "execution_count": 2,
   "metadata": {},
   "outputs": [],
   "source": [
    "data = requests.get('https://www.alphavantage.co/query?function=TIME_SERIES_DAILY&symbol=nly&outputsize=full&apikey=9HXBL1MHLXSUW3XP')\n",
    "data = data.json()"
   ]
  },
  {
   "cell_type": "code",
   "execution_count": 3,
   "metadata": {},
   "outputs": [
    {
     "data": {
      "text/plain": [
       "{'1. Information': 'Daily Prices (open, high, low, close) and Volumes',\n",
       " '2. Symbol': 'nly',\n",
       " '3. Last Refreshed': '2020-01-16 13:11:52',\n",
       " '4. Output Size': 'Full size',\n",
       " '5. Time Zone': 'US/Eastern'}"
      ]
     },
     "execution_count": 3,
     "metadata": {},
     "output_type": "execute_result"
    }
   ],
   "source": [
    "data['Meta Data']"
   ]
  },
  {
   "cell_type": "code",
   "execution_count": 4,
   "metadata": {},
   "outputs": [],
   "source": [
    "df = pd.DataFrame.from_dict(data['Time Series (Daily)'], orient = 'index')"
   ]
  },
  {
   "cell_type": "code",
   "execution_count": 5,
   "metadata": {},
   "outputs": [],
   "source": [
    "df.index = pd.to_datetime(df.index)"
   ]
  },
  {
   "cell_type": "code",
   "execution_count": 6,
   "metadata": {},
   "outputs": [],
   "source": [
    "df.columns = ['open', 'high', 'low', 'close', 'volume']\n",
    "for i in df.columns:\n",
    "    df[[f'{i}']] = df[[f'{i}']].apply(pd.to_numeric)"
   ]
  },
  {
   "cell_type": "code",
   "execution_count": 7,
   "metadata": {},
   "outputs": [
    {
     "name": "stdout",
     "output_type": "stream",
     "text": [
      "<class 'pandas.core.frame.DataFrame'>\n",
      "DatetimeIndex: 5033 entries, 2020-01-16 to 2000-01-14\n",
      "Data columns (total 5 columns):\n",
      "open      5033 non-null float64\n",
      "high      5033 non-null float64\n",
      "low       5033 non-null float64\n",
      "close     5033 non-null float64\n",
      "volume    5033 non-null int64\n",
      "dtypes: float64(4), int64(1)\n",
      "memory usage: 235.9 KB\n"
     ]
    }
   ],
   "source": [
    "df.info()"
   ]
  },
  {
   "cell_type": "code",
   "execution_count": 8,
   "metadata": {},
   "outputs": [
    {
     "data": {
      "text/html": [
       "<div>\n",
       "<style scoped>\n",
       "    .dataframe tbody tr th:only-of-type {\n",
       "        vertical-align: middle;\n",
       "    }\n",
       "\n",
       "    .dataframe tbody tr th {\n",
       "        vertical-align: top;\n",
       "    }\n",
       "\n",
       "    .dataframe thead th {\n",
       "        text-align: right;\n",
       "    }\n",
       "</style>\n",
       "<table border=\"1\" class=\"dataframe\">\n",
       "  <thead>\n",
       "    <tr style=\"text-align: right;\">\n",
       "      <th></th>\n",
       "      <th>open</th>\n",
       "      <th>high</th>\n",
       "      <th>low</th>\n",
       "      <th>close</th>\n",
       "      <th>volume</th>\n",
       "    </tr>\n",
       "  </thead>\n",
       "  <tbody>\n",
       "    <tr>\n",
       "      <td>2000-01-21</td>\n",
       "      <td>8.375</td>\n",
       "      <td>8.375</td>\n",
       "      <td>8.250</td>\n",
       "      <td>8.250</td>\n",
       "      <td>19000</td>\n",
       "    </tr>\n",
       "    <tr>\n",
       "      <td>2000-01-20</td>\n",
       "      <td>8.375</td>\n",
       "      <td>8.375</td>\n",
       "      <td>8.313</td>\n",
       "      <td>8.313</td>\n",
       "      <td>24000</td>\n",
       "    </tr>\n",
       "    <tr>\n",
       "      <td>2000-01-19</td>\n",
       "      <td>8.313</td>\n",
       "      <td>8.375</td>\n",
       "      <td>8.250</td>\n",
       "      <td>8.313</td>\n",
       "      <td>17700</td>\n",
       "    </tr>\n",
       "    <tr>\n",
       "      <td>2000-01-18</td>\n",
       "      <td>8.500</td>\n",
       "      <td>8.500</td>\n",
       "      <td>8.313</td>\n",
       "      <td>8.313</td>\n",
       "      <td>18100</td>\n",
       "    </tr>\n",
       "    <tr>\n",
       "      <td>2000-01-14</td>\n",
       "      <td>8.438</td>\n",
       "      <td>8.625</td>\n",
       "      <td>8.313</td>\n",
       "      <td>8.375</td>\n",
       "      <td>31600</td>\n",
       "    </tr>\n",
       "  </tbody>\n",
       "</table>\n",
       "</div>"
      ],
      "text/plain": [
       "             open   high    low  close  volume\n",
       "2000-01-21  8.375  8.375  8.250  8.250   19000\n",
       "2000-01-20  8.375  8.375  8.313  8.313   24000\n",
       "2000-01-19  8.313  8.375  8.250  8.313   17700\n",
       "2000-01-18  8.500  8.500  8.313  8.313   18100\n",
       "2000-01-14  8.438  8.625  8.313  8.375   31600"
      ]
     },
     "execution_count": 8,
     "metadata": {},
     "output_type": "execute_result"
    }
   ],
   "source": [
    "df.tail()"
   ]
  },
  {
   "cell_type": "code",
   "execution_count": 9,
   "metadata": {},
   "outputs": [],
   "source": [
    "#df['daily_change'] = df['close'] - df['open']"
   ]
  },
  {
   "cell_type": "code",
   "execution_count": 10,
   "metadata": {},
   "outputs": [],
   "source": [
    "df.drop(['high','low', 'open', 'volume'], axis=1, inplace = True)"
   ]
  },
  {
   "cell_type": "code",
   "execution_count": 11,
   "metadata": {},
   "outputs": [
    {
     "data": {
      "text/html": [
       "<div>\n",
       "<style scoped>\n",
       "    .dataframe tbody tr th:only-of-type {\n",
       "        vertical-align: middle;\n",
       "    }\n",
       "\n",
       "    .dataframe tbody tr th {\n",
       "        vertical-align: top;\n",
       "    }\n",
       "\n",
       "    .dataframe thead th {\n",
       "        text-align: right;\n",
       "    }\n",
       "</style>\n",
       "<table border=\"1\" class=\"dataframe\">\n",
       "  <thead>\n",
       "    <tr style=\"text-align: right;\">\n",
       "      <th></th>\n",
       "      <th>close</th>\n",
       "    </tr>\n",
       "  </thead>\n",
       "  <tbody>\n",
       "    <tr>\n",
       "      <td>2020-01-16</td>\n",
       "      <td>9.635</td>\n",
       "    </tr>\n",
       "    <tr>\n",
       "      <td>2020-01-15</td>\n",
       "      <td>9.620</td>\n",
       "    </tr>\n",
       "    <tr>\n",
       "      <td>2020-01-14</td>\n",
       "      <td>9.600</td>\n",
       "    </tr>\n",
       "    <tr>\n",
       "      <td>2020-01-13</td>\n",
       "      <td>9.570</td>\n",
       "    </tr>\n",
       "    <tr>\n",
       "      <td>2020-01-10</td>\n",
       "      <td>9.540</td>\n",
       "    </tr>\n",
       "    <tr>\n",
       "      <td>...</td>\n",
       "      <td>...</td>\n",
       "    </tr>\n",
       "    <tr>\n",
       "      <td>2000-01-21</td>\n",
       "      <td>8.250</td>\n",
       "    </tr>\n",
       "    <tr>\n",
       "      <td>2000-01-20</td>\n",
       "      <td>8.313</td>\n",
       "    </tr>\n",
       "    <tr>\n",
       "      <td>2000-01-19</td>\n",
       "      <td>8.313</td>\n",
       "    </tr>\n",
       "    <tr>\n",
       "      <td>2000-01-18</td>\n",
       "      <td>8.313</td>\n",
       "    </tr>\n",
       "    <tr>\n",
       "      <td>2000-01-14</td>\n",
       "      <td>8.375</td>\n",
       "    </tr>\n",
       "  </tbody>\n",
       "</table>\n",
       "<p>5033 rows × 1 columns</p>\n",
       "</div>"
      ],
      "text/plain": [
       "            close\n",
       "2020-01-16  9.635\n",
       "2020-01-15  9.620\n",
       "2020-01-14  9.600\n",
       "2020-01-13  9.570\n",
       "2020-01-10  9.540\n",
       "...           ...\n",
       "2000-01-21  8.250\n",
       "2000-01-20  8.313\n",
       "2000-01-19  8.313\n",
       "2000-01-18  8.313\n",
       "2000-01-14  8.375\n",
       "\n",
       "[5033 rows x 1 columns]"
      ]
     },
     "execution_count": 11,
     "metadata": {},
     "output_type": "execute_result"
    }
   ],
   "source": [
    "df"
   ]
  },
  {
   "cell_type": "code",
   "execution_count": 12,
   "metadata": {},
   "outputs": [],
   "source": [
    "#df[[\"close\"]] = df[[\"close\"]].apply(pd.to_numeric)"
   ]
  },
  {
   "cell_type": "code",
   "execution_count": 13,
   "metadata": {},
   "outputs": [],
   "source": [
    "df_full = df\n"
   ]
  },
  {
   "cell_type": "code",
   "execution_count": 14,
   "metadata": {},
   "outputs": [
    {
     "name": "stdout",
     "output_type": "stream",
     "text": [
      "5.308938019593139 22.642212944046666\n",
      "Empty DataFrame\n",
      "Columns: [close]\n",
      "Index: []\n",
      "Empty DataFrame\n",
      "Columns: [close]\n",
      "Index: []\n"
     ]
    }
   ],
   "source": [
    "stan_dev_cutoff = df.std().sum() * 2.5\n",
    "low_cutoff = df.mean().sum() - stan_dev_cutoff \n",
    "high_cutoff = df.mean().sum() + stan_dev_cutoff\n",
    "\n",
    "print(low_cutoff, high_cutoff)\n",
    "print(df.loc[df['close'] > high_cutoff])\n",
    "print(df.loc[df['close'] < low_cutoff])\n",
    "#df.drop(index =['2017-06-26', '2017-06-23'])"
   ]
  },
  {
   "cell_type": "code",
   "execution_count": 15,
   "metadata": {},
   "outputs": [
    {
     "data": {
      "image/png": "[encoded data removed]",
      "text/plain": [
       "<Figure size 432x288 with 1 Axes>"
      ]
     },
     "metadata": {
      "needs_background": "light"
     },
     "output_type": "display_data"
    }
   ],
   "source": [
    "df.plot(title= 'Close Price - Daily Sample Interval');"
   ]
  },
  {
   "cell_type": "code",
   "execution_count": 16,
   "metadata": {},
   "outputs": [],
   "source": [
    "dfm = df.resample('m').mean()\n",
    "dfm_full = df_full.resample('m').mean()"
   ]
  },
  {
   "cell_type": "code",
   "execution_count": 17,
   "metadata": {},
   "outputs": [
    {
     "data": {
      "image/png": "[encoded data removed]",
      "text/plain": [
       "<Figure size 432x288 with 1 Axes>"
      ]
     },
     "metadata": {
      "needs_background": "light"
     },
     "output_type": "display_data"
    }
   ],
   "source": [
    "dfm.plot(title='Average Close Price - Monthly Sample Interval');"
   ]
  },
  {
   "cell_type": "code",
   "execution_count": 18,
   "metadata": {},
   "outputs": [
    {
     "data": {
      "image/png": "[encoded data removed]",
      "text/plain": [
       "<Figure size 432x288 with 1 Axes>"
      ]
     },
     "metadata": {
      "needs_background": "light"
     },
     "output_type": "display_data"
    }
   ],
   "source": [
    "dfm_full.plot(title='Average Close Price - Monthly Sample Interval');"
   ]
  },
  {
   "cell_type": "code",
   "execution_count": 19,
   "metadata": {},
   "outputs": [
    {
     "data": {
      "text/plain": [
       "(-8.0075435509394,\n",
       " 2.246537163627505e-12,\n",
       " 3,\n",
       " 236,\n",
       " {'1%': -3.4583663275730476,\n",
       "  '5%': -2.8738660999177132,\n",
       "  '10%': -2.5733390785693766},\n",
       " 533.8524848882764)"
      ]
     },
     "execution_count": 19,
     "metadata": {},
     "output_type": "execute_result"
    }
   ],
   "source": [
    "# Dickey fuller - for stationarity\n",
    "## had to take difference to decrease the DF below the 5% critical value\n",
    "dfmd = dfm.diff().dropna()\n",
    "\n",
    "from statsmodels.tsa.stattools import adfuller\n",
    "dickyf = adfuller(dfmd['close'])\n",
    "dickyf"
   ]
  },
  {
   "cell_type": "code",
   "execution_count": 20,
   "metadata": {},
   "outputs": [
    {
     "data": {
      "text/plain": [
       "<Figure size 2160x720 with 0 Axes>"
      ]
     },
     "metadata": {},
     "output_type": "display_data"
    },
    {
     "data": {
      "image/png": "[encoded data removed]",
      "text/plain": [
       "<Figure size 432x288 with 4 Axes>"
      ]
     },
     "metadata": {
      "needs_background": "light"
     },
     "output_type": "display_data"
    }
   ],
   "source": [
    "from statsmodels.tsa.seasonal import seasonal_decompose\n",
    "decomposition = seasonal_decompose(dfm, freq=12)\n",
    "fig = plt.figure(figsize = (30,10))\n",
    "fig = decomposition.plot();\n"
   ]
  },
  {
   "cell_type": "code",
   "execution_count": 21,
   "metadata": {},
   "outputs": [
    {
     "data": {
      "image/png": "[encoded data removed]",
      "text/plain": [
       "<Figure size 432x288 with 1 Axes>"
      ]
     },
     "metadata": {
      "needs_background": "light"
     },
     "output_type": "display_data"
    }
   ],
   "source": [
    "# auto correlation function\n",
    "from statsmodels.tsa.stattools import acf\n",
    "from statsmodels.graphics.tsaplots import plot_acf\n",
    "\n",
    "plot_acf(dfmd['close']);"
   ]
  },
  {
   "cell_type": "code",
   "execution_count": 22,
   "metadata": {},
   "outputs": [
    {
     "data": {
      "image/png": "[encoded data removed]",
      "text/plain": [
       "<Figure size 432x288 with 1 Axes>"
      ]
     },
     "metadata": {
      "needs_background": "light"
     },
     "output_type": "display_data"
    }
   ],
   "source": [
    "### partial auto correlation function\n",
    "from statsmodels.tsa.stattools import pacf\n",
    "from statsmodels.graphics.tsaplots import plot_pacf\n",
    "\n",
    "plot_pacf(dfmd['close']);"
   ]
  },
  {
   "cell_type": "code",
   "execution_count": 23,
   "metadata": {},
   "outputs": [],
   "source": [
    "from statsmodels.tsa.statespace.sarimax import SARIMAX"
   ]
  },
  {
   "cell_type": "code",
   "execution_count": 24,
   "metadata": {},
   "outputs": [
    {
     "data": {
      "text/html": [
       "<table class=\"simpletable\">\n",
       "<caption>Statespace Model Results</caption>\n",
       "<tr>\n",
       "  <th>Dep. Variable:</th>                <td>close</td>             <th>  No. Observations:  </th>    <td>241</td>  \n",
       "</tr>\n",
       "<tr>\n",
       "  <th>Model:</th>           <td>SARIMAX(0, 1, 2)x(1, 1, 2, 12)</td> <th>  Log Likelihood     </th> <td>-231.832</td>\n",
       "</tr>\n",
       "<tr>\n",
       "  <th>Date:</th>                   <td>Thu, 16 Jan 2020</td>        <th>  AIC                </th>  <td>475.663</td>\n",
       "</tr>\n",
       "<tr>\n",
       "  <th>Time:</th>                       <td>12:12:01</td>            <th>  BIC                </th>  <td>495.483</td>\n",
       "</tr>\n",
       "<tr>\n",
       "  <th>Sample:</th>                    <td>01-31-2000</td>           <th>  HQIC               </th>  <td>483.683</td>\n",
       "</tr>\n",
       "<tr>\n",
       "  <th></th>                          <td>- 01-31-2020</td>          <th>                     </th>     <td> </td>   \n",
       "</tr>\n",
       "<tr>\n",
       "  <th>Covariance Type:</th>               <td>opg</td>              <th>                     </th>     <td> </td>   \n",
       "</tr>\n",
       "</table>\n",
       "<table class=\"simpletable\">\n",
       "<tr>\n",
       "      <td></td>        <th>coef</th>     <th>std err</th>      <th>z</th>      <th>P>|z|</th>  <th>[0.025</th>    <th>0.975]</th>  \n",
       "</tr>\n",
       "<tr>\n",
       "  <th>ma.L1</th>    <td>    0.2565</td> <td>    0.061</td> <td>    4.221</td> <td> 0.000</td> <td>    0.137</td> <td>    0.376</td>\n",
       "</tr>\n",
       "<tr>\n",
       "  <th>ma.L2</th>    <td>   -0.0826</td> <td>    0.075</td> <td>   -1.101</td> <td> 0.271</td> <td>   -0.230</td> <td>    0.064</td>\n",
       "</tr>\n",
       "<tr>\n",
       "  <th>ar.S.L12</th> <td>   -0.8108</td> <td>    0.057</td> <td>  -14.208</td> <td> 0.000</td> <td>   -0.923</td> <td>   -0.699</td>\n",
       "</tr>\n",
       "<tr>\n",
       "  <th>ma.S.L12</th> <td>   -0.1027</td> <td>  384.706</td> <td>   -0.000</td> <td> 1.000</td> <td> -754.113</td> <td>  753.908</td>\n",
       "</tr>\n",
       "<tr>\n",
       "  <th>ma.S.L24</th> <td>   -1.1028</td> <td>  424.215</td> <td>   -0.003</td> <td> 0.998</td> <td> -832.549</td> <td>  830.344</td>\n",
       "</tr>\n",
       "<tr>\n",
       "  <th>sigma2</th>   <td>    0.4104</td> <td>  157.876</td> <td>    0.003</td> <td> 0.998</td> <td> -309.021</td> <td>  309.842</td>\n",
       "</tr>\n",
       "</table>\n",
       "<table class=\"simpletable\">\n",
       "<tr>\n",
       "  <th>Ljung-Box (Q):</th>          <td>42.40</td> <th>  Jarque-Bera (JB):  </th> <td>229.78</td>\n",
       "</tr>\n",
       "<tr>\n",
       "  <th>Prob(Q):</th>                <td>0.37</td>  <th>  Prob(JB):          </th>  <td>0.00</td> \n",
       "</tr>\n",
       "<tr>\n",
       "  <th>Heteroskedasticity (H):</th> <td>0.17</td>  <th>  Skew:              </th>  <td>-1.10</td>\n",
       "</tr>\n",
       "<tr>\n",
       "  <th>Prob(H) (two-sided):</th>    <td>0.00</td>  <th>  Kurtosis:          </th>  <td>7.75</td> \n",
       "</tr>\n",
       "</table><br/><br/>Warnings:<br/>[1] Covariance matrix calculated using the outer product of gradients (complex-step)."
      ],
      "text/plain": [
       "<class 'statsmodels.iolib.summary.Summary'>\n",
       "\"\"\"\n",
       "                                 Statespace Model Results                                 \n",
       "==========================================================================================\n",
       "Dep. Variable:                              close   No. Observations:                  241\n",
       "Model:             SARIMAX(0, 1, 2)x(1, 1, 2, 12)   Log Likelihood                -231.832\n",
       "Date:                            Thu, 16 Jan 2020   AIC                            475.663\n",
       "Time:                                    12:12:01   BIC                            495.483\n",
       "Sample:                                01-31-2000   HQIC                           483.683\n",
       "                                     - 01-31-2020                                         \n",
       "Covariance Type:                              opg                                         \n",
       "==============================================================================\n",
       "                 coef    std err          z      P>|z|      [0.025      0.975]\n",
       "------------------------------------------------------------------------------\n",
       "ma.L1          0.2565      0.061      4.221      0.000       0.137       0.376\n",
       "ma.L2         -0.0826      0.075     -1.101      0.271      -0.230       0.064\n",
       "ar.S.L12      -0.8108      0.057    -14.208      0.000      -0.923      -0.699\n",
       "ma.S.L12      -0.1027    384.706     -0.000      1.000    -754.113     753.908\n",
       "ma.S.L24      -1.1028    424.215     -0.003      0.998    -832.549     830.344\n",
       "sigma2         0.4104    157.876      0.003      0.998    -309.021     309.842\n",
       "===================================================================================\n",
       "Ljung-Box (Q):                       42.40   Jarque-Bera (JB):               229.78\n",
       "Prob(Q):                              0.37   Prob(JB):                         0.00\n",
       "Heteroskedasticity (H):               0.17   Skew:                            -1.10\n",
       "Prob(H) (two-sided):                  0.00   Kurtosis:                         7.75\n",
       "===================================================================================\n",
       "\n",
       "Warnings:\n",
       "[1] Covariance matrix calculated using the outer product of gradients (complex-step).\n",
       "\"\"\""
      ]
     },
     "execution_count": 24,
     "metadata": {},
     "output_type": "execute_result"
    }
   ],
   "source": [
    "from statsmodels.tsa.statespace import sarimax\n",
    "\n",
    "\n",
    "model = sarimax.SARIMAX(dfm['close'], \n",
    "                        order=(0,1,2), \n",
    "                        seasonal_order = (1,1,2,12), \n",
    "                        enforce_stationarity=False,\n",
    "                        enforce_invertibility=False)\n",
    "res = model.fit()\n",
    "res.summary()\n",
    "#red = res.get_prediction()\n",
    "\n",
    "#ARIMA (0, 1, 0) x (1, 1, 0, 12) : AIC Calculated =33.907072774811255\n",
    "## or ARIMA (1, 1, 0) x (0, 1, 1, 3) : AIC Calculated =39.92117593191608\n",
    "\n",
    "#new\n",
    "# ARIMA (0, 1, 0) x (1, 1, 0, 12) : AIC Calculated =32.549985654704024\n",
    "#ARIMA (0, 1, 0) x (0, 1, 1, 3) : AIC Calculated =38.562085400883134\n",
    "#ARIMA (1, 1, 0) x (0, 1, 1, 3) : AIC Calculated =39.307049385566245\n",
    "\n",
    "# New new\n",
    "# ARIMA (0, 1, 0) x (1, 1, 1, 12) : AIC Calculated =34.76943087669308\n",
    "\n",
    "#IDK - looking at df not dfm\n",
    "#ARIMA (0, 1, 0) x (0, 1, 0, 12) : AIC Calculated =-1022.3211094034486\n",
    "\n",
    "\n",
    "#Change window of dates 2015->2016\n",
    "#ARIMA (0, 1, 0) x (0, 1, 1, 3) : AIC Calculated =30.425769716940614\n",
    "#ARIMA (0, 1, 0) x (1, 1, 0, 12) : AIC Calculated =0.6043184089089753\n",
    "#ARIMA (0, 1, 2) x (1, 1, 0, 12) : AIC Calculated =0.5000707205748007\n",
    "\n",
    "#consider all the data\n",
    "#ARIMA (0, 1, 2) x (1, 1, 2, 12) : AIC Calculated =475.66551743655816\n"
   ]
  },
  {
   "cell_type": "code",
   "execution_count": 25,
   "metadata": {},
   "outputs": [
    {
     "data": {
      "text/plain": [
       "statsmodels.tsa.statespace.sarimax.SARIMAXResultsWrapper"
      ]
     },
     "execution_count": 25,
     "metadata": {},
     "output_type": "execute_result"
    }
   ],
   "source": [
    "type(res)"
   ]
  },
  {
   "cell_type": "code",
   "execution_count": 26,
   "metadata": {},
   "outputs": [
    {
     "data": {
      "image/png": "[encoded data removed]",
      "text/plain": [
       "<Figure size 432x288 with 4 Axes>"
      ]
     },
     "metadata": {
      "needs_background": "light"
     },
     "output_type": "display_data"
    }
   ],
   "source": [
    "res.plot_diagnostics();"
   ]
  },
  {
   "cell_type": "code",
   "execution_count": 27,
   "metadata": {},
   "outputs": [],
   "source": [
    "import itertools"
   ]
  },
  {
   "cell_type": "code",
   "execution_count": 28,
   "metadata": {},
   "outputs": [],
   "source": [
    "# Define the p, d and q parameters to take any value between 0 and 2\n",
    "p = q = range(0, 3)\n",
    "d = range(1,3)\n",
    "s = 3\n",
    "\n",
    "# Generate all different combinations of p, q and q triplets\n",
    "pdq = list(itertools.product(p,d,q))\n",
    "\n",
    "# Generate all different combinations of seasonal p, q and q triplets\n",
    "pdqs = [(x[0], x[1], x[2], s) for x in list(itertools.product(p,d,q))]"
   ]
  },
  {
   "cell_type": "code",
   "execution_count": 29,
   "metadata": {},
   "outputs": [
    {
     "name": "stdout",
     "output_type": "stream",
     "text": [
      "ARIMA (0, 1, 0) x (0, 1, 0, 3) : AIC Calculated =713.6762887244745\n",
      "ARIMA (0, 1, 0) x (0, 1, 1, 3) : AIC Calculated =568.4870592912587\n",
      "ARIMA (0, 1, 0) x (0, 1, 2, 3) : AIC Calculated =564.9795664538453\n",
      "ARIMA (0, 1, 0) x (0, 2, 0, 3) : AIC Calculated =959.1521752105971\n",
      "ARIMA (0, 1, 0) x (0, 2, 1, 3) : AIC Calculated =713.9233383984159\n",
      "ARIMA (0, 1, 0) x (0, 2, 2, 3) : AIC Calculated =579.2861760257272\n",
      "ARIMA (0, 1, 0) x (1, 1, 0, 3) : AIC Calculated =651.4904688755644\n",
      "ARIMA (0, 1, 0) x (1, 1, 1, 3) : AIC Calculated =571.0202668039052\n",
      "ARIMA (0, 1, 0) x (1, 1, 2, 3) : AIC Calculated =566.8509969888547\n",
      "ARIMA (0, 1, 0) x (1, 2, 0, 3) : AIC Calculated =821.5434397457998\n",
      "ARIMA (0, 1, 0) x (1, 2, 1, 3) : AIC Calculated =658.6709138891081\n",
      "ARIMA (0, 1, 0) x (1, 2, 2, 3) : AIC Calculated =583.2363024066636\n",
      "ARIMA (0, 1, 0) x (2, 1, 0, 3) : AIC Calculated =627.9439351565547\n",
      "ARIMA (0, 1, 0) x (2, 1, 1, 3) : AIC Calculated =568.860422301034\n",
      "ARIMA (0, 1, 0) x (2, 1, 2, 3) : AIC Calculated =561.431021526319\n",
      "ARIMA (0, 1, 0) x (2, 2, 0, 3) : AIC Calculated =767.1116873711653\n",
      "ARIMA (0, 1, 0) x (2, 2, 1, 3) : AIC Calculated =637.8689027153503\n",
      "ARIMA (0, 1, 0) x (2, 2, 2, 3) : AIC Calculated =583.2841085846599\n",
      "ARIMA (0, 1, 1) x (0, 1, 0, 3) : AIC Calculated =692.3716036716821\n",
      "ARIMA (0, 1, 1) x (0, 1, 1, 3) : AIC Calculated =556.6100850660238\n",
      "ARIMA (0, 1, 1) x (0, 1, 2, 3) : AIC Calculated =552.6208252124109\n",
      "ARIMA (0, 1, 1) x (0, 2, 0, 3) : AIC Calculated =931.7200138185282\n",
      "ARIMA (0, 1, 1) x (0, 2, 1, 3) : AIC Calculated =692.8230925271383\n",
      "ARIMA (0, 1, 1) x (0, 2, 2, 3) : AIC Calculated =567.387307669157\n",
      "ARIMA (0, 1, 1) x (1, 1, 0, 3) : AIC Calculated =641.2277730920621\n",
      "ARIMA (0, 1, 1) x (1, 1, 1, 3) : AIC Calculated =558.0680167576124\n",
      "ARIMA (0, 1, 1) x (1, 1, 2, 3) : AIC Calculated =554.384456344274\n",
      "ARIMA (0, 1, 1) x (1, 2, 0, 3) : AIC Calculated =810.8809850100782\n",
      "ARIMA (0, 1, 1) x (1, 2, 1, 3) : AIC Calculated =646.0843867727818\n",
      "ARIMA (0, 1, 1) x (1, 2, 2, 3) : AIC Calculated =569.3864113939173\n",
      "ARIMA (0, 1, 1) x (2, 1, 0, 3) : AIC Calculated =615.1850057392692\n",
      "ARIMA (0, 1, 1) x (2, 1, 1, 3) : AIC Calculated =559.617341940894\n",
      "ARIMA (0, 1, 1) x (2, 1, 2, 3) : AIC Calculated =549.922132386089\n",
      "ARIMA (0, 1, 1) x (2, 2, 0, 3) : AIC Calculated =756.2638443686359\n",
      "ARIMA (0, 1, 1) x (2, 2, 1, 3) : AIC Calculated =625.2492232560098\n",
      "ARIMA (0, 1, 1) x (2, 2, 2, 3) : AIC Calculated =571.9313602625332\n",
      "ARIMA (0, 1, 2) x (0, 1, 0, 3) : AIC Calculated =679.0582144737635\n",
      "ARIMA (0, 1, 2) x (0, 1, 1, 3) : AIC Calculated =551.5254422354717\n",
      "ARIMA (0, 1, 2) x (0, 1, 2, 3) : AIC Calculated =546.834973119576\n",
      "ARIMA (0, 1, 2) x (0, 2, 0, 3) : AIC Calculated =803.8370024695781\n",
      "ARIMA (0, 1, 2) x (0, 2, 1, 3) : AIC Calculated =682.4846679029632\n",
      "ARIMA (0, 1, 2) x (0, 2, 2, 3) : AIC Calculated =562.1328295183239\n",
      "ARIMA (0, 1, 2) x (1, 1, 0, 3) : AIC Calculated =641.8793282378576\n",
      "ARIMA (0, 1, 2) x (1, 1, 1, 3) : AIC Calculated =553.5166424888464\n",
      "ARIMA (0, 1, 2) x (1, 1, 2, 3) : AIC Calculated =548.5375998912607\n",
      "ARIMA (0, 1, 2) x (1, 2, 0, 3) : AIC Calculated =812.7327345031267\n",
      "ARIMA (0, 1, 2) x (1, 2, 1, 3) : AIC Calculated =642.8404148673573\n",
      "ARIMA (0, 1, 2) x (1, 2, 2, 3) : AIC Calculated =564.1432788103564\n",
      "ARIMA (0, 1, 2) x (2, 1, 0, 3) : AIC Calculated =613.319122951214\n",
      "ARIMA (0, 1, 2) x (2, 1, 1, 3) : AIC Calculated =556.8945599379556\n",
      "ARIMA (0, 1, 2) x (2, 1, 2, 3) : AIC Calculated =544.7130639751081\n",
      "ARIMA (0, 1, 2) x (2, 2, 0, 3) : AIC Calculated =756.4493420488668\n",
      "ARIMA (0, 1, 2) x (2, 2, 1, 3) : AIC Calculated =623.2723077093599\n"
     ]
    },
    {
     "name": "stderr",
     "output_type": "stream",
     "text": [
      "/Users/flatironschool/opt/anaconda3/lib/python3.7/site-packages/statsmodels/base/model.py:512: ConvergenceWarning: Maximum Likelihood optimization failed to converge. Check mle_retvals\n",
      "  \"Check mle_retvals\", ConvergenceWarning)\n"
     ]
    },
    {
     "name": "stdout",
     "output_type": "stream",
     "text": [
      "ARIMA (0, 1, 2) x (2, 2, 2, 3) : AIC Calculated =568.9984964633687\n",
      "ARIMA (0, 2, 0) x (0, 1, 0, 3) : AIC Calculated =801.6653924000746\n",
      "ARIMA (0, 2, 0) x (0, 1, 1, 3) : AIC Calculated =681.2180544468908\n",
      "ARIMA (0, 2, 0) x (0, 1, 2, 3) : AIC Calculated =671.5111743710934\n",
      "ARIMA (0, 2, 0) x (0, 2, 0, 3) : AIC Calculated =1032.301653654281\n",
      "ARIMA (0, 2, 0) x (0, 2, 1, 3) : AIC Calculated =799.6340674766175\n",
      "ARIMA (0, 2, 0) x (0, 2, 2, 3) : AIC Calculated =689.6478372684746\n",
      "ARIMA (0, 2, 0) x (1, 1, 0, 3) : AIC Calculated =758.7806720166168\n",
      "ARIMA (0, 2, 0) x (1, 1, 1, 3) : AIC Calculated =679.5013012488595\n",
      "ARIMA (0, 2, 0) x (1, 1, 2, 3) : AIC Calculated =673.3660387479936\n",
      "ARIMA (0, 2, 0) x (1, 2, 0, 3) : AIC Calculated =921.9131404851546\n",
      "ARIMA (0, 2, 0) x (1, 2, 1, 3) : AIC Calculated =764.0824796421164\n",
      "ARIMA (0, 2, 0) x (1, 2, 2, 3) : AIC Calculated =688.6232708574977\n",
      "ARIMA (0, 2, 0) x (2, 1, 0, 3) : AIC Calculated =731.59593402676\n",
      "ARIMA (0, 2, 0) x (2, 1, 1, 3) : AIC Calculated =677.3557344099934\n",
      "ARIMA (0, 2, 0) x (2, 1, 2, 3) : AIC Calculated =675.3660295756476\n",
      "ARIMA (0, 2, 0) x (2, 2, 0, 3) : AIC Calculated =869.2513404520848\n",
      "ARIMA (0, 2, 0) x (2, 2, 1, 3) : AIC Calculated =740.114613032631\n",
      "ARIMA (0, 2, 0) x (2, 2, 2, 3) : AIC Calculated =690.0990112994518\n",
      "ARIMA (0, 2, 1) x (0, 1, 0, 3) : AIC Calculated =715.7616297717939\n",
      "ARIMA (0, 2, 1) x (0, 1, 1, 3) : AIC Calculated =575.0243719945511\n",
      "ARIMA (0, 2, 1) x (0, 1, 2, 3) : AIC Calculated =570.1123805710627\n",
      "ARIMA (0, 2, 1) x (0, 2, 0, 3) : AIC Calculated =959.1886470575679\n",
      "ARIMA (0, 2, 1) x (0, 2, 1, 3) : AIC Calculated =719.7348792328796\n",
      "ARIMA (0, 2, 1) x (0, 2, 2, 3) : AIC Calculated =589.1028183353994\n",
      "ARIMA (0, 2, 1) x (1, 1, 0, 3) : AIC Calculated =657.1752539386954\n",
      "ARIMA (0, 2, 1) x (1, 1, 1, 3) : AIC Calculated =578.5341172076132\n",
      "ARIMA (0, 2, 1) x (1, 1, 2, 3) : AIC Calculated =571.7044616136991\n",
      "ARIMA (0, 2, 1) x (1, 2, 0, 3) : AIC Calculated =826.4392974374226\n",
      "ARIMA (0, 2, 1) x (1, 2, 1, 3) : AIC Calculated =665.7910222203618\n",
      "ARIMA (0, 2, 1) x (1, 2, 2, 3) : AIC Calculated =591.0963085438909\n",
      "ARIMA (0, 2, 1) x (2, 1, 0, 3) : AIC Calculated =633.691431917501\n",
      "ARIMA (0, 2, 1) x (2, 1, 1, 3) : AIC Calculated =576.9558454330914\n",
      "ARIMA (0, 2, 1) x (2, 1, 2, 3) : AIC Calculated =573.7318407133232\n",
      "ARIMA (0, 2, 1) x (2, 2, 0, 3) : AIC Calculated =772.2006389954225\n",
      "ARIMA (0, 2, 1) x (2, 2, 1, 3) : AIC Calculated =649.8056643265977\n",
      "ARIMA (0, 2, 1) x (2, 2, 2, 3) : AIC Calculated =593.096235947331\n",
      "ARIMA (0, 2, 2) x (0, 1, 0, 3) : AIC Calculated =694.3446154179254\n",
      "ARIMA (0, 2, 2) x (0, 1, 1, 3) : AIC Calculated =563.6079995132501\n",
      "ARIMA (0, 2, 2) x (0, 1, 2, 3) : AIC Calculated =558.1232293681657\n",
      "ARIMA (0, 2, 2) x (0, 2, 0, 3) : AIC Calculated =931.6254945909418\n",
      "ARIMA (0, 2, 2) x (0, 2, 1, 3) : AIC Calculated =698.3811880237358\n",
      "ARIMA (0, 2, 2) x (0, 2, 2, 3) : AIC Calculated =577.3316585791939\n",
      "ARIMA (0, 2, 2) x (1, 1, 0, 3) : AIC Calculated =646.5185207079725\n",
      "ARIMA (0, 2, 2) x (1, 1, 1, 3) : AIC Calculated =565.6947779563822\n",
      "ARIMA (0, 2, 2) x (1, 1, 2, 3) : AIC Calculated =559.3058042524522\n",
      "ARIMA (0, 2, 2) x (1, 2, 0, 3) : AIC Calculated =815.4111634080036\n",
      "ARIMA (0, 2, 2) x (1, 2, 1, 3) : AIC Calculated =652.800658996114\n",
      "ARIMA (0, 2, 2) x (1, 2, 2, 3) : AIC Calculated =579.9275817040409\n",
      "ARIMA (0, 2, 2) x (2, 1, 0, 3) : AIC Calculated =620.4774457830657\n",
      "ARIMA (0, 2, 2) x (2, 1, 1, 3) : AIC Calculated =570.2354289574448\n",
      "ARIMA (0, 2, 2) x (2, 1, 2, 3) : AIC Calculated =561.3061243843747\n",
      "ARIMA (0, 2, 2) x (2, 2, 0, 3) : AIC Calculated =760.9396795127282\n",
      "ARIMA (0, 2, 2) x (2, 2, 1, 3) : AIC Calculated =636.7332300998676\n"
     ]
    },
    {
     "name": "stderr",
     "output_type": "stream",
     "text": [
      "/Users/flatironschool/opt/anaconda3/lib/python3.7/site-packages/statsmodels/base/model.py:512: ConvergenceWarning: Maximum Likelihood optimization failed to converge. Check mle_retvals\n",
      "  \"Check mle_retvals\", ConvergenceWarning)\n"
     ]
    },
    {
     "name": "stdout",
     "output_type": "stream",
     "text": [
      "ARIMA (0, 2, 2) x (2, 2, 2, 3) : AIC Calculated =581.9212193396639\n",
      "ARIMA (1, 1, 0) x (0, 1, 0, 3) : AIC Calculated =698.3717773762914\n",
      "ARIMA (1, 1, 0) x (0, 1, 1, 3) : AIC Calculated =562.4923419302306\n",
      "ARIMA (1, 1, 0) x (0, 1, 2, 3) : AIC Calculated =558.4285300611127\n",
      "ARIMA (1, 1, 0) x (0, 2, 0, 3) : AIC Calculated =938.4010821716033\n",
      "ARIMA (1, 1, 0) x (0, 2, 1, 3) : AIC Calculated =699.3338012538776\n",
      "ARIMA (1, 1, 0) x (0, 2, 2, 3) : AIC Calculated =573.6987297215104\n",
      "ARIMA (1, 1, 0) x (1, 1, 0, 3) : AIC Calculated =642.4015813864455\n",
      "ARIMA (1, 1, 0) x (1, 1, 1, 3) : AIC Calculated =564.3429158373516\n",
      "ARIMA (1, 1, 0) x (1, 1, 2, 3) : AIC Calculated =560.3662777244427\n",
      "ARIMA (1, 1, 0) x (1, 2, 0, 3) : AIC Calculated =810.0059068173869\n",
      "ARIMA (1, 1, 0) x (1, 2, 1, 3) : AIC Calculated =651.5235601627767\n",
      "ARIMA (1, 1, 0) x (1, 2, 2, 3) : AIC Calculated =575.6984771114123\n",
      "ARIMA (1, 1, 0) x (2, 1, 0, 3) : AIC Calculated =618.658666883219\n",
      "ARIMA (1, 1, 0) x (2, 1, 1, 3) : AIC Calculated =561.8987888128231\n",
      "ARIMA (1, 1, 0) x (2, 1, 2, 3) : AIC Calculated =555.3801677183073\n",
      "ARIMA (1, 1, 0) x (2, 2, 0, 3) : AIC Calculated =756.6702810583624\n",
      "ARIMA (1, 1, 0) x (2, 2, 1, 3) : AIC Calculated =626.9406873380407\n",
      "ARIMA (1, 1, 0) x (2, 2, 2, 3) : AIC Calculated =578.8566112335662\n",
      "ARIMA (1, 1, 1) x (0, 1, 0, 3) : AIC Calculated =694.0664972484774\n",
      "ARIMA (1, 1, 1) x (0, 1, 1, 3) : AIC Calculated =553.0345712985891\n",
      "ARIMA (1, 1, 1) x (0, 1, 2, 3) : AIC Calculated =550.3664967855276\n",
      "ARIMA (1, 1, 1) x (0, 2, 0, 3) : AIC Calculated =913.7163417902703\n",
      "ARIMA (1, 1, 1) x (0, 2, 1, 3) : AIC Calculated =694.5414315249182\n",
      "ARIMA (1, 1, 1) x (0, 2, 2, 3) : AIC Calculated =564.0761816232264\n",
      "ARIMA (1, 1, 1) x (1, 1, 0, 3) : AIC Calculated =640.8844871522423\n",
      "ARIMA (1, 1, 1) x (1, 1, 1, 3) : AIC Calculated =555.0345726348646\n",
      "ARIMA (1, 1, 1) x (1, 1, 2, 3) : AIC Calculated =552.1366711525758\n",
      "ARIMA (1, 1, 1) x (1, 2, 0, 3) : AIC Calculated =810.209377994398\n",
      "ARIMA (1, 1, 1) x (1, 2, 1, 3) : AIC Calculated =644.5670668177368\n"
     ]
    },
    {
     "name": "stderr",
     "output_type": "stream",
     "text": [
      "/Users/flatironschool/opt/anaconda3/lib/python3.7/site-packages/statsmodels/base/model.py:512: ConvergenceWarning: Maximum Likelihood optimization failed to converge. Check mle_retvals\n",
      "  \"Check mle_retvals\", ConvergenceWarning)\n"
     ]
    },
    {
     "name": "stdout",
     "output_type": "stream",
     "text": [
      "ARIMA (1, 1, 1) x (1, 2, 2, 3) : AIC Calculated =566.0933570909076\n",
      "ARIMA (1, 1, 1) x (2, 1, 0, 3) : AIC Calculated =613.6850073858153\n",
      "ARIMA (1, 1, 1) x (2, 1, 1, 3) : AIC Calculated =553.65370779965\n",
      "ARIMA (1, 1, 1) x (2, 1, 2, 3) : AIC Calculated =548.7252274712549\n",
      "ARIMA (1, 1, 1) x (2, 2, 0, 3) : AIC Calculated =754.539636593092\n",
      "ARIMA (1, 1, 1) x (2, 2, 1, 3) : AIC Calculated =621.5807095211629\n"
     ]
    },
    {
     "name": "stderr",
     "output_type": "stream",
     "text": [
      "/Users/flatironschool/opt/anaconda3/lib/python3.7/site-packages/statsmodels/base/model.py:512: ConvergenceWarning: Maximum Likelihood optimization failed to converge. Check mle_retvals\n",
      "  \"Check mle_retvals\", ConvergenceWarning)\n"
     ]
    },
    {
     "name": "stdout",
     "output_type": "stream",
     "text": [
      "ARIMA (1, 1, 1) x (2, 2, 2, 3) : AIC Calculated =568.0866474261304\n",
      "ARIMA (1, 1, 2) x (0, 1, 0, 3) : AIC Calculated =647.9769830717682\n",
      "ARIMA (1, 1, 2) x (0, 1, 1, 3) : AIC Calculated =553.2760854800999\n",
      "ARIMA (1, 1, 2) x (0, 1, 2, 3) : AIC Calculated =548.6600808833678\n",
      "ARIMA (1, 1, 2) x (0, 2, 0, 3) : AIC Calculated =867.0545654018315\n",
      "ARIMA (1, 1, 2) x (0, 2, 1, 3) : AIC Calculated =652.4087851616575\n"
     ]
    },
    {
     "name": "stderr",
     "output_type": "stream",
     "text": [
      "/Users/flatironschool/opt/anaconda3/lib/python3.7/site-packages/statsmodels/base/model.py:512: ConvergenceWarning: Maximum Likelihood optimization failed to converge. Check mle_retvals\n",
      "  \"Check mle_retvals\", ConvergenceWarning)\n"
     ]
    },
    {
     "name": "stdout",
     "output_type": "stream",
     "text": [
      "ARIMA (1, 1, 2) x (0, 2, 2, 3) : AIC Calculated =563.4818902315537\n",
      "ARIMA (1, 1, 2) x (1, 1, 0, 3) : AIC Calculated =614.2048100912236\n",
      "ARIMA (1, 1, 2) x (1, 1, 1, 3) : AIC Calculated =555.2719852860121\n",
      "ARIMA (1, 1, 2) x (1, 1, 2, 3) : AIC Calculated =550.4413987542009\n",
      "ARIMA (1, 1, 2) x (1, 2, 0, 3) : AIC Calculated =764.4248936254094\n",
      "ARIMA (1, 1, 2) x (1, 2, 1, 3) : AIC Calculated =622.5233288452162\n"
     ]
    },
    {
     "name": "stderr",
     "output_type": "stream",
     "text": [
      "/Users/flatironschool/opt/anaconda3/lib/python3.7/site-packages/statsmodels/base/model.py:512: ConvergenceWarning: Maximum Likelihood optimization failed to converge. Check mle_retvals\n",
      "  \"Check mle_retvals\", ConvergenceWarning)\n"
     ]
    },
    {
     "name": "stdout",
     "output_type": "stream",
     "text": [
      "ARIMA (1, 1, 2) x (1, 2, 2, 3) : AIC Calculated =567.8620395852026\n",
      "ARIMA (1, 1, 2) x (2, 1, 0, 3) : AIC Calculated =594.765078914401\n",
      "ARIMA (1, 1, 2) x (2, 1, 1, 3) : AIC Calculated =556.0394532144007\n",
      "ARIMA (1, 1, 2) x (2, 1, 2, 3) : AIC Calculated =546.7125652849971\n",
      "ARIMA (1, 1, 2) x (2, 2, 0, 3) : AIC Calculated =715.1468730309812\n",
      "ARIMA (1, 1, 2) x (2, 2, 1, 3) : AIC Calculated =609.4940597283601\n"
     ]
    },
    {
     "name": "stderr",
     "output_type": "stream",
     "text": [
      "/Users/flatironschool/opt/anaconda3/lib/python3.7/site-packages/statsmodels/base/model.py:512: ConvergenceWarning: Maximum Likelihood optimization failed to converge. Check mle_retvals\n",
      "  \"Check mle_retvals\", ConvergenceWarning)\n"
     ]
    },
    {
     "name": "stdout",
     "output_type": "stream",
     "text": [
      "ARIMA (1, 1, 2) x (2, 2, 2, 3) : AIC Calculated =574.6035450370882\n",
      "ARIMA (1, 2, 0) x (0, 1, 0, 3) : AIC Calculated =793.939941398151\n",
      "ARIMA (1, 2, 0) x (0, 1, 1, 3) : AIC Calculated =659.881353667801\n",
      "ARIMA (1, 2, 0) x (0, 1, 2, 3) : AIC Calculated =654.0601686762789\n",
      "ARIMA (1, 2, 0) x (0, 2, 0, 3) : AIC Calculated =1029.7439900863517\n",
      "ARIMA (1, 2, 0) x (0, 2, 1, 3) : AIC Calculated =792.1573635860378\n",
      "ARIMA (1, 2, 0) x (0, 2, 2, 3) : AIC Calculated =668.7634924514161\n",
      "ARIMA (1, 2, 0) x (1, 1, 0, 3) : AIC Calculated =738.2560116547538\n",
      "ARIMA (1, 2, 0) x (1, 1, 1, 3) : AIC Calculated =661.456448997785\n",
      "ARIMA (1, 2, 0) x (1, 1, 2, 3) : AIC Calculated =656.3082720488205\n",
      "ARIMA (1, 2, 0) x (1, 2, 0, 3) : AIC Calculated =900.5331361404734\n",
      "ARIMA (1, 2, 0) x (1, 2, 1, 3) : AIC Calculated =746.0996184521091\n",
      "ARIMA (1, 2, 0) x (1, 2, 2, 3) : AIC Calculated =669.8451710575599\n",
      "ARIMA (1, 2, 0) x (2, 1, 0, 3) : AIC Calculated =716.2992517414632\n",
      "ARIMA (1, 2, 0) x (2, 1, 1, 3) : AIC Calculated =656.5623967242336\n",
      "ARIMA (1, 2, 0) x (2, 1, 2, 3) : AIC Calculated =658.2286898140649\n",
      "ARIMA (1, 2, 0) x (2, 2, 0, 3) : AIC Calculated =851.4434527474127\n",
      "ARIMA (1, 2, 0) x (2, 2, 1, 3) : AIC Calculated =723.462461586359\n"
     ]
    },
    {
     "name": "stderr",
     "output_type": "stream",
     "text": [
      "/Users/flatironschool/opt/anaconda3/lib/python3.7/site-packages/statsmodels/base/model.py:512: ConvergenceWarning: Maximum Likelihood optimization failed to converge. Check mle_retvals\n",
      "  \"Check mle_retvals\", ConvergenceWarning)\n"
     ]
    },
    {
     "name": "stdout",
     "output_type": "stream",
     "text": [
      "ARIMA (1, 2, 0) x (2, 2, 2, 3) : AIC Calculated =672.4098097111732\n",
      "ARIMA (1, 2, 1) x (0, 1, 0, 3) : AIC Calculated =701.1681877212537\n",
      "ARIMA (1, 2, 1) x (0, 1, 1, 3) : AIC Calculated =569.8287695730316\n",
      "ARIMA (1, 2, 1) x (0, 1, 2, 3) : AIC Calculated =564.2116957172534\n",
      "ARIMA (1, 2, 1) x (0, 2, 0, 3) : AIC Calculated =938.3549088263544\n",
      "ARIMA (1, 2, 1) x (0, 2, 1, 3) : AIC Calculated =791.1162684754972\n",
      "ARIMA (1, 2, 1) x (0, 2, 2, 3) : AIC Calculated =583.6913400609399\n",
      "ARIMA (1, 2, 1) x (1, 1, 0, 3) : AIC Calculated =647.2475976763593\n",
      "ARIMA (1, 2, 1) x (1, 1, 1, 3) : AIC Calculated =571.8283444651754\n",
      "ARIMA (1, 2, 1) x (1, 1, 2, 3) : AIC Calculated =565.9048042976216\n",
      "ARIMA (1, 2, 1) x (1, 2, 0, 3) : AIC Calculated =813.9839247519151\n",
      "ARIMA (1, 2, 1) x (1, 2, 1, 3) : AIC Calculated =658.5267009604771\n",
      "ARIMA (1, 2, 1) x (1, 2, 2, 3) : AIC Calculated =586.787420880593\n",
      "ARIMA (1, 2, 1) x (2, 1, 0, 3) : AIC Calculated =623.5230202441669\n",
      "ARIMA (1, 2, 1) x (2, 1, 1, 3) : AIC Calculated =569.9508478569746\n",
      "ARIMA (1, 2, 1) x (2, 1, 2, 3) : AIC Calculated =567.9046617643687\n",
      "ARIMA (1, 2, 1) x (2, 2, 0, 3) : AIC Calculated =761.0302605272891\n",
      "ARIMA (1, 2, 1) x (2, 2, 1, 3) : AIC Calculated =638.1674205837985\n",
      "ARIMA (1, 2, 1) x (2, 2, 2, 3) : AIC Calculated =588.7776921897429\n",
      "ARIMA (1, 2, 2) x (0, 1, 0, 3) : AIC Calculated =696.0331340322862\n",
      "ARIMA (1, 2, 2) x (0, 1, 1, 3) : AIC Calculated =559.752808253587\n",
      "ARIMA (1, 2, 2) x (0, 1, 2, 3) : AIC Calculated =555.4419694000866\n",
      "ARIMA (1, 2, 2) x (0, 2, 0, 3) : AIC Calculated =932.0121057718104\n",
      "ARIMA (1, 2, 2) x (0, 2, 1, 3) : AIC Calculated =700.084694844863\n",
      "ARIMA (1, 2, 2) x (0, 2, 2, 3) : AIC Calculated =574.0079131873217\n",
      "ARIMA (1, 2, 2) x (1, 1, 0, 3) : AIC Calculated =645.8231445232356\n",
      "ARIMA (1, 2, 2) x (1, 1, 1, 3) : AIC Calculated =561.7528173036428\n",
      "ARIMA (1, 2, 2) x (1, 1, 2, 3) : AIC Calculated =551.1662984707367\n",
      "ARIMA (1, 2, 2) x (1, 2, 0, 3) : AIC Calculated =814.2557195935158\n",
      "ARIMA (1, 2, 2) x (1, 2, 1, 3) : AIC Calculated =654.3035064506466\n"
     ]
    },
    {
     "name": "stderr",
     "output_type": "stream",
     "text": [
      "/Users/flatironschool/opt/anaconda3/lib/python3.7/site-packages/statsmodels/base/model.py:512: ConvergenceWarning: Maximum Likelihood optimization failed to converge. Check mle_retvals\n",
      "  \"Check mle_retvals\", ConvergenceWarning)\n"
     ]
    },
    {
     "name": "stdout",
     "output_type": "stream",
     "text": [
      "ARIMA (1, 2, 2) x (1, 2, 2, 3) : AIC Calculated =578.741305449028\n",
      "ARIMA (1, 2, 2) x (2, 1, 0, 3) : AIC Calculated =618.5226516991389\n"
     ]
    },
    {
     "name": "stderr",
     "output_type": "stream",
     "text": [
      "/Users/flatironschool/opt/anaconda3/lib/python3.7/site-packages/statsmodels/base/model.py:512: ConvergenceWarning: Maximum Likelihood optimization failed to converge. Check mle_retvals\n",
      "  \"Check mle_retvals\", ConvergenceWarning)\n"
     ]
    },
    {
     "name": "stdout",
     "output_type": "stream",
     "text": [
      "ARIMA (1, 2, 2) x (2, 1, 1, 3) : AIC Calculated =562.1305139024033\n"
     ]
    },
    {
     "name": "stderr",
     "output_type": "stream",
     "text": [
      "/Users/flatironschool/opt/anaconda3/lib/python3.7/site-packages/statsmodels/base/model.py:512: ConvergenceWarning: Maximum Likelihood optimization failed to converge. Check mle_retvals\n",
      "  \"Check mle_retvals\", ConvergenceWarning)\n"
     ]
    },
    {
     "name": "stdout",
     "output_type": "stream",
     "text": [
      "ARIMA (1, 2, 2) x (2, 1, 2, 3) : AIC Calculated =558.4002474321221\n",
      "ARIMA (1, 2, 2) x (2, 2, 0, 3) : AIC Calculated =758.9894141361468\n",
      "ARIMA (1, 2, 2) x (2, 2, 1, 3) : AIC Calculated =632.9363354218938\n"
     ]
    },
    {
     "name": "stderr",
     "output_type": "stream",
     "text": [
      "/Users/flatironschool/opt/anaconda3/lib/python3.7/site-packages/statsmodels/base/model.py:512: ConvergenceWarning: Maximum Likelihood optimization failed to converge. Check mle_retvals\n",
      "  \"Check mle_retvals\", ConvergenceWarning)\n"
     ]
    },
    {
     "name": "stdout",
     "output_type": "stream",
     "text": [
      "ARIMA (1, 2, 2) x (2, 2, 2, 3) : AIC Calculated =578.0294011731318\n",
      "ARIMA (2, 1, 0) x (0, 1, 0, 3) : AIC Calculated =681.5671947883784\n",
      "ARIMA (2, 1, 0) x (0, 1, 1, 3) : AIC Calculated =557.7651095685401\n",
      "ARIMA (2, 1, 0) x (0, 1, 2, 3) : AIC Calculated =552.3397804872902\n",
      "ARIMA (2, 1, 0) x (0, 2, 0, 3) : AIC Calculated =912.3851250743563\n",
      "ARIMA (2, 1, 0) x (0, 2, 1, 3) : AIC Calculated =685.7923283253949\n",
      "ARIMA (2, 1, 0) x (0, 2, 2, 3) : AIC Calculated =569.6234904284787\n",
      "ARIMA (2, 1, 0) x (1, 1, 0, 3) : AIC Calculated =635.1145111996952\n",
      "ARIMA (2, 1, 0) x (1, 1, 1, 3) : AIC Calculated =557.737240508643\n",
      "ARIMA (2, 1, 0) x (1, 1, 2, 3) : AIC Calculated =554.5102002752622\n",
      "ARIMA (2, 1, 0) x (1, 2, 0, 3) : AIC Calculated =803.2967421962844\n",
      "ARIMA (2, 1, 0) x (1, 2, 1, 3) : AIC Calculated =644.0523214461946\n",
      "ARIMA (2, 1, 0) x (1, 2, 2, 3) : AIC Calculated =572.0140151634478\n",
      "ARIMA (2, 1, 0) x (2, 1, 0, 3) : AIC Calculated =606.3899761516279\n",
      "ARIMA (2, 1, 0) x (2, 1, 1, 3) : AIC Calculated =554.1355324648315\n",
      "ARIMA (2, 1, 0) x (2, 1, 2, 3) : AIC Calculated =548.9306146897928\n",
      "ARIMA (2, 1, 0) x (2, 2, 0, 3) : AIC Calculated =745.039072708006\n",
      "ARIMA (2, 1, 0) x (2, 2, 1, 3) : AIC Calculated =615.3692204144136\n",
      "ARIMA (2, 1, 0) x (2, 2, 2, 3) : AIC Calculated =571.1325821515115\n",
      "ARIMA (2, 1, 1) x (0, 1, 0, 3) : AIC Calculated =628.7517845034064\n"
     ]
    },
    {
     "name": "stderr",
     "output_type": "stream",
     "text": [
      "/Users/flatironschool/opt/anaconda3/lib/python3.7/site-packages/statsmodels/base/model.py:512: ConvergenceWarning: Maximum Likelihood optimization failed to converge. Check mle_retvals\n",
      "  \"Check mle_retvals\", ConvergenceWarning)\n"
     ]
    },
    {
     "name": "stdout",
     "output_type": "stream",
     "text": [
      "ARIMA (2, 1, 1) x (0, 1, 1, 3) : AIC Calculated =558.9110281627549\n",
      "ARIMA (2, 1, 1) x (0, 1, 2, 3) : AIC Calculated =551.3221708659892\n",
      "ARIMA (2, 1, 1) x (0, 2, 0, 3) : AIC Calculated =800.1771582900158\n",
      "ARIMA (2, 1, 1) x (0, 2, 1, 3) : AIC Calculated =634.573665668422\n"
     ]
    },
    {
     "name": "stderr",
     "output_type": "stream",
     "text": [
      "/Users/flatironschool/opt/anaconda3/lib/python3.7/site-packages/statsmodels/base/model.py:512: ConvergenceWarning: Maximum Likelihood optimization failed to converge. Check mle_retvals\n",
      "  \"Check mle_retvals\", ConvergenceWarning)\n"
     ]
    },
    {
     "name": "stdout",
     "output_type": "stream",
     "text": [
      "ARIMA (2, 1, 1) x (0, 2, 2, 3) : AIC Calculated =572.4258143754458\n",
      "ARIMA (2, 1, 1) x (1, 1, 0, 3) : AIC Calculated =608.9828520663866\n",
      "ARIMA (2, 1, 1) x (1, 1, 1, 3) : AIC Calculated =559.1849473761808\n",
      "ARIMA (2, 1, 1) x (1, 1, 2, 3) : AIC Calculated =553.4399311448062\n",
      "ARIMA (2, 1, 1) x (1, 2, 0, 3) : AIC Calculated =740.3376331022387\n",
      "ARIMA (2, 1, 1) x (1, 2, 1, 3) : AIC Calculated =623.2773412381375\n",
      "ARIMA (2, 1, 1) x (1, 2, 2, 3) : AIC Calculated =572.3045969081235\n",
      "ARIMA (2, 1, 1) x (2, 1, 0, 3) : AIC Calculated =594.3450293250642\n",
      "ARIMA (2, 1, 1) x (2, 1, 1, 3) : AIC Calculated =554.8519191105023\n"
     ]
    },
    {
     "name": "stderr",
     "output_type": "stream",
     "text": [
      "/Users/flatironschool/opt/anaconda3/lib/python3.7/site-packages/statsmodels/base/model.py:512: ConvergenceWarning: Maximum Likelihood optimization failed to converge. Check mle_retvals\n",
      "  \"Check mle_retvals\", ConvergenceWarning)\n"
     ]
    },
    {
     "name": "stdout",
     "output_type": "stream",
     "text": [
      "ARIMA (2, 1, 1) x (2, 1, 2, 3) : AIC Calculated =550.3535841236053\n",
      "ARIMA (2, 1, 1) x (2, 2, 0, 3) : AIC Calculated =698.245592939515\n",
      "ARIMA (2, 1, 1) x (2, 2, 1, 3) : AIC Calculated =606.9496124010371\n"
     ]
    },
    {
     "name": "stderr",
     "output_type": "stream",
     "text": [
      "/Users/flatironschool/opt/anaconda3/lib/python3.7/site-packages/statsmodels/base/model.py:512: ConvergenceWarning: Maximum Likelihood optimization failed to converge. Check mle_retvals\n",
      "  \"Check mle_retvals\", ConvergenceWarning)\n"
     ]
    },
    {
     "name": "stdout",
     "output_type": "stream",
     "text": [
      "ARIMA (2, 1, 1) x (2, 2, 2, 3) : AIC Calculated =574.9384102846947\n",
      "ARIMA (2, 1, 2) x (0, 1, 0, 3) : AIC Calculated =628.3513084307602\n",
      "ARIMA (2, 1, 2) x (0, 1, 1, 3) : AIC Calculated =555.0597403581141\n",
      "ARIMA (2, 1, 2) x (0, 1, 2, 3) : AIC Calculated =548.8464539112505\n",
      "ARIMA (2, 1, 2) x (0, 2, 0, 3) : AIC Calculated =788.816249151258\n",
      "ARIMA (2, 1, 2) x (0, 2, 1, 3) : AIC Calculated =632.8112730034645\n"
     ]
    },
    {
     "name": "stderr",
     "output_type": "stream",
     "text": [
      "/Users/flatironschool/opt/anaconda3/lib/python3.7/site-packages/statsmodels/base/model.py:512: ConvergenceWarning: Maximum Likelihood optimization failed to converge. Check mle_retvals\n",
      "  \"Check mle_retvals\", ConvergenceWarning)\n"
     ]
    },
    {
     "name": "stdout",
     "output_type": "stream",
     "text": [
      "ARIMA (2, 1, 2) x (0, 2, 2, 3) : AIC Calculated =565.4206999649734\n",
      "ARIMA (2, 1, 2) x (1, 1, 0, 3) : AIC Calculated =610.7791777537087\n",
      "ARIMA (2, 1, 2) x (1, 1, 1, 3) : AIC Calculated =557.2692049935226\n",
      "ARIMA (2, 1, 2) x (1, 1, 2, 3) : AIC Calculated =550.4206153418188\n",
      "ARIMA (2, 1, 2) x (1, 2, 0, 3) : AIC Calculated =736.8294335244547\n",
      "ARIMA (2, 1, 2) x (1, 2, 1, 3) : AIC Calculated =620.3965586271304\n"
     ]
    },
    {
     "name": "stderr",
     "output_type": "stream",
     "text": [
      "/Users/flatironschool/opt/anaconda3/lib/python3.7/site-packages/statsmodels/base/model.py:512: ConvergenceWarning: Maximum Likelihood optimization failed to converge. Check mle_retvals\n",
      "  \"Check mle_retvals\", ConvergenceWarning)\n"
     ]
    },
    {
     "name": "stdout",
     "output_type": "stream",
     "text": [
      "ARIMA (2, 1, 2) x (1, 2, 2, 3) : AIC Calculated =569.7460701781159\n",
      "ARIMA (2, 1, 2) x (2, 1, 0, 3) : AIC Calculated =599.7875718281823\n",
      "ARIMA (2, 1, 2) x (2, 1, 1, 3) : AIC Calculated =556.2009111334679\n",
      "ARIMA (2, 1, 2) x (2, 1, 2, 3) : AIC Calculated =548.5134065671045\n",
      "ARIMA (2, 1, 2) x (2, 2, 0, 3) : AIC Calculated =700.1602022337997\n",
      "ARIMA (2, 1, 2) x (2, 2, 1, 3) : AIC Calculated =609.3071365397311\n"
     ]
    },
    {
     "name": "stderr",
     "output_type": "stream",
     "text": [
      "/Users/flatironschool/opt/anaconda3/lib/python3.7/site-packages/statsmodels/base/model.py:512: ConvergenceWarning: Maximum Likelihood optimization failed to converge. Check mle_retvals\n",
      "  \"Check mle_retvals\", ConvergenceWarning)\n"
     ]
    },
    {
     "name": "stdout",
     "output_type": "stream",
     "text": [
      "ARIMA (2, 1, 2) x (2, 2, 2, 3) : AIC Calculated =572.9865519467388\n",
      "ARIMA (2, 2, 0) x (0, 1, 0, 3) : AIC Calculated =788.9541635899466\n",
      "ARIMA (2, 2, 0) x (0, 1, 1, 3) : AIC Calculated =614.5041178776582\n",
      "ARIMA (2, 2, 0) x (0, 1, 2, 3) : AIC Calculated =567.9711492479165\n",
      "ARIMA (2, 2, 0) x (0, 2, 0, 3) : AIC Calculated =1027.8351164984497\n",
      "ARIMA (2, 2, 0) x (0, 2, 1, 3) : AIC Calculated =790.1105395222135\n",
      "ARIMA (2, 2, 0) x (0, 2, 2, 3) : AIC Calculated =625.7804610351913\n",
      "ARIMA (2, 2, 0) x (1, 1, 0, 3) : AIC Calculated =712.526329525841\n",
      "ARIMA (2, 2, 0) x (1, 1, 1, 3) : AIC Calculated =594.5252265509602\n",
      "ARIMA (2, 2, 0) x (1, 1, 2, 3) : AIC Calculated =569.9711606114588\n",
      "ARIMA (2, 2, 0) x (1, 2, 0, 3) : AIC Calculated =889.8897009654554\n",
      "ARIMA (2, 2, 0) x (1, 2, 1, 3) : AIC Calculated =721.1586485386176\n",
      "ARIMA (2, 2, 0) x (1, 2, 2, 3) : AIC Calculated =611.0496629312123\n",
      "ARIMA (2, 2, 0) x (2, 1, 0, 3) : AIC Calculated =672.8659994116845\n",
      "ARIMA (2, 2, 0) x (2, 1, 1, 3) : AIC Calculated =581.3088944155429\n",
      "ARIMA (2, 2, 0) x (2, 1, 2, 3) : AIC Calculated =574.8892819702388\n",
      "ARIMA (2, 2, 0) x (2, 2, 0, 3) : AIC Calculated =827.7288213301201\n",
      "ARIMA (2, 2, 0) x (2, 2, 1, 3) : AIC Calculated =682.0823049739502\n",
      "ARIMA (2, 2, 0) x (2, 2, 2, 3) : AIC Calculated =604.4357339939759\n",
      "ARIMA (2, 2, 1) x (0, 1, 0, 3) : AIC Calculated =687.1477407264517\n",
      "ARIMA (2, 2, 1) x (0, 1, 1, 3) : AIC Calculated =564.8911849857499\n"
     ]
    },
    {
     "name": "stderr",
     "output_type": "stream",
     "text": [
      "/Users/flatironschool/opt/anaconda3/lib/python3.7/site-packages/statsmodels/base/model.py:512: ConvergenceWarning: Maximum Likelihood optimization failed to converge. Check mle_retvals\n",
      "  \"Check mle_retvals\", ConvergenceWarning)\n"
     ]
    },
    {
     "name": "stdout",
     "output_type": "stream",
     "text": [
      "ARIMA (2, 2, 1) x (0, 1, 2, 3) : AIC Calculated =572.6730571089577\n"
     ]
    },
    {
     "name": "stderr",
     "output_type": "stream",
     "text": [
      "/Users/flatironschool/opt/anaconda3/lib/python3.7/site-packages/statsmodels/base/model.py:512: ConvergenceWarning: Maximum Likelihood optimization failed to converge. Check mle_retvals\n",
      "  \"Check mle_retvals\", ConvergenceWarning)\n"
     ]
    },
    {
     "name": "stdout",
     "output_type": "stream",
     "text": [
      "ARIMA (2, 2, 1) x (0, 2, 0, 3) : AIC Calculated =916.8768388541616\n"
     ]
    },
    {
     "name": "stderr",
     "output_type": "stream",
     "text": [
      "/Users/flatironschool/opt/anaconda3/lib/python3.7/site-packages/statsmodels/base/model.py:512: ConvergenceWarning: Maximum Likelihood optimization failed to converge. Check mle_retvals\n",
      "  \"Check mle_retvals\", ConvergenceWarning)\n"
     ]
    },
    {
     "name": "stdout",
     "output_type": "stream",
     "text": [
      "ARIMA (2, 2, 1) x (0, 2, 1, 3) : AIC Calculated =765.6774932771955\n"
     ]
    },
    {
     "name": "stderr",
     "output_type": "stream",
     "text": [
      "/Users/flatironschool/opt/anaconda3/lib/python3.7/site-packages/statsmodels/base/model.py:512: ConvergenceWarning: Maximum Likelihood optimization failed to converge. Check mle_retvals\n",
      "  \"Check mle_retvals\", ConvergenceWarning)\n"
     ]
    },
    {
     "name": "stdout",
     "output_type": "stream",
     "text": [
      "ARIMA (2, 2, 1) x (0, 2, 2, 3) : AIC Calculated =629.6797143371203\n",
      "ARIMA (2, 2, 1) x (1, 1, 0, 3) : AIC Calculated =640.7838774068774\n"
     ]
    },
    {
     "name": "stderr",
     "output_type": "stream",
     "text": [
      "/Users/flatironschool/opt/anaconda3/lib/python3.7/site-packages/statsmodels/base/model.py:512: ConvergenceWarning: Maximum Likelihood optimization failed to converge. Check mle_retvals\n",
      "  \"Check mle_retvals\", ConvergenceWarning)\n"
     ]
    },
    {
     "name": "stdout",
     "output_type": "stream",
     "text": [
      "ARIMA (2, 2, 1) x (1, 1, 1, 3) : AIC Calculated =566.8608890570036\n"
     ]
    },
    {
     "name": "stderr",
     "output_type": "stream",
     "text": [
      "/Users/flatironschool/opt/anaconda3/lib/python3.7/site-packages/statsmodels/base/model.py:512: ConvergenceWarning: Maximum Likelihood optimization failed to converge. Check mle_retvals\n",
      "  \"Check mle_retvals\", ConvergenceWarning)\n"
     ]
    },
    {
     "name": "stdout",
     "output_type": "stream",
     "text": [
      "ARIMA (2, 2, 1) x (1, 1, 2, 3) : AIC Calculated =559.7198515782894\n"
     ]
    },
    {
     "name": "stderr",
     "output_type": "stream",
     "text": [
      "/Users/flatironschool/opt/anaconda3/lib/python3.7/site-packages/statsmodels/base/model.py:512: ConvergenceWarning: Maximum Likelihood optimization failed to converge. Check mle_retvals\n",
      "  \"Check mle_retvals\", ConvergenceWarning)\n"
     ]
    },
    {
     "name": "stdout",
     "output_type": "stream",
     "text": [
      "ARIMA (2, 2, 1) x (1, 2, 0, 3) : AIC Calculated =876.6284208869419\n"
     ]
    },
    {
     "name": "stderr",
     "output_type": "stream",
     "text": [
      "/Users/flatironschool/opt/anaconda3/lib/python3.7/site-packages/statsmodels/base/model.py:512: ConvergenceWarning: Maximum Likelihood optimization failed to converge. Check mle_retvals\n",
      "  \"Check mle_retvals\", ConvergenceWarning)\n"
     ]
    },
    {
     "name": "stdout",
     "output_type": "stream",
     "text": [
      "ARIMA (2, 2, 1) x (1, 2, 1, 3) : AIC Calculated =716.0888854619758\n"
     ]
    },
    {
     "name": "stderr",
     "output_type": "stream",
     "text": [
      "/Users/flatironschool/opt/anaconda3/lib/python3.7/site-packages/statsmodels/base/model.py:512: ConvergenceWarning: Maximum Likelihood optimization failed to converge. Check mle_retvals\n",
      "  \"Check mle_retvals\", ConvergenceWarning)\n"
     ]
    },
    {
     "name": "stdout",
     "output_type": "stream",
     "text": [
      "ARIMA (2, 2, 1) x (1, 2, 2, 3) : AIC Calculated =708.2686409838398\n",
      "ARIMA (2, 2, 1) x (2, 1, 0, 3) : AIC Calculated =612.1392160070768\n"
     ]
    },
    {
     "name": "stderr",
     "output_type": "stream",
     "text": [
      "/Users/flatironschool/opt/anaconda3/lib/python3.7/site-packages/statsmodels/base/model.py:512: ConvergenceWarning: Maximum Likelihood optimization failed to converge. Check mle_retvals\n",
      "  \"Check mle_retvals\", ConvergenceWarning)\n"
     ]
    },
    {
     "name": "stdout",
     "output_type": "stream",
     "text": [
      "ARIMA (2, 2, 1) x (2, 1, 1, 3) : AIC Calculated =583.653048353003\n"
     ]
    },
    {
     "name": "stderr",
     "output_type": "stream",
     "text": [
      "/Users/flatironschool/opt/anaconda3/lib/python3.7/site-packages/statsmodels/base/model.py:512: ConvergenceWarning: Maximum Likelihood optimization failed to converge. Check mle_retvals\n",
      "  \"Check mle_retvals\", ConvergenceWarning)\n"
     ]
    },
    {
     "name": "stdout",
     "output_type": "stream",
     "text": [
      "ARIMA (2, 2, 1) x (2, 1, 2, 3) : AIC Calculated =585.5346457549998\n"
     ]
    },
    {
     "name": "stderr",
     "output_type": "stream",
     "text": [
      "/Users/flatironschool/opt/anaconda3/lib/python3.7/site-packages/statsmodels/base/model.py:512: ConvergenceWarning: Maximum Likelihood optimization failed to converge. Check mle_retvals\n",
      "  \"Check mle_retvals\", ConvergenceWarning)\n"
     ]
    },
    {
     "name": "stdout",
     "output_type": "stream",
     "text": [
      "ARIMA (2, 2, 1) x (2, 2, 0, 3) : AIC Calculated =823.826062811175\n"
     ]
    },
    {
     "name": "stderr",
     "output_type": "stream",
     "text": [
      "/Users/flatironschool/opt/anaconda3/lib/python3.7/site-packages/statsmodels/base/model.py:512: ConvergenceWarning: Maximum Likelihood optimization failed to converge. Check mle_retvals\n",
      "  \"Check mle_retvals\", ConvergenceWarning)\n"
     ]
    },
    {
     "name": "stdout",
     "output_type": "stream",
     "text": [
      "ARIMA (2, 2, 1) x (2, 2, 1, 3) : AIC Calculated =680.626650043759\n"
     ]
    },
    {
     "name": "stderr",
     "output_type": "stream",
     "text": [
      "/Users/flatironschool/opt/anaconda3/lib/python3.7/site-packages/statsmodels/base/model.py:512: ConvergenceWarning: Maximum Likelihood optimization failed to converge. Check mle_retvals\n",
      "  \"Check mle_retvals\", ConvergenceWarning)\n"
     ]
    },
    {
     "name": "stdout",
     "output_type": "stream",
     "text": [
      "ARIMA (2, 2, 1) x (2, 2, 2, 3) : AIC Calculated =656.8312345505286\n",
      "ARIMA (2, 2, 2) x (0, 1, 0, 3) : AIC Calculated =637.563333177128\n",
      "ARIMA (2, 2, 2) x (0, 1, 1, 3) : AIC Calculated =561.9830786013662\n",
      "ARIMA (2, 2, 2) x (0, 1, 2, 3) : AIC Calculated =557.1830012775622\n",
      "ARIMA (2, 2, 2) x (0, 2, 0, 3) : AIC Calculated =807.6277575794123\n"
     ]
    },
    {
     "name": "stderr",
     "output_type": "stream",
     "text": [
      "/Users/flatironschool/opt/anaconda3/lib/python3.7/site-packages/statsmodels/base/model.py:512: ConvergenceWarning: Maximum Likelihood optimization failed to converge. Check mle_retvals\n",
      "  \"Check mle_retvals\", ConvergenceWarning)\n"
     ]
    },
    {
     "name": "stdout",
     "output_type": "stream",
     "text": [
      "ARIMA (2, 2, 2) x (0, 2, 1, 3) : AIC Calculated =645.7721272780233\n"
     ]
    },
    {
     "name": "stderr",
     "output_type": "stream",
     "text": [
      "/Users/flatironschool/opt/anaconda3/lib/python3.7/site-packages/statsmodels/base/model.py:512: ConvergenceWarning: Maximum Likelihood optimization failed to converge. Check mle_retvals\n",
      "  \"Check mle_retvals\", ConvergenceWarning)\n"
     ]
    },
    {
     "name": "stdout",
     "output_type": "stream",
     "text": [
      "ARIMA (2, 2, 2) x (0, 2, 2, 3) : AIC Calculated =576.3297704405463\n",
      "ARIMA (2, 2, 2) x (1, 1, 0, 3) : AIC Calculated =640.1066046799697\n",
      "ARIMA (2, 2, 2) x (1, 1, 1, 3) : AIC Calculated =563.981403276867\n",
      "ARIMA (2, 2, 2) x (1, 1, 2, 3) : AIC Calculated =553.1661223543049\n",
      "ARIMA (2, 2, 2) x (1, 2, 0, 3) : AIC Calculated =752.3020973220989\n"
     ]
    },
    {
     "name": "stderr",
     "output_type": "stream",
     "text": [
      "/Users/flatironschool/opt/anaconda3/lib/python3.7/site-packages/statsmodels/base/model.py:512: ConvergenceWarning: Maximum Likelihood optimization failed to converge. Check mle_retvals\n",
      "  \"Check mle_retvals\", ConvergenceWarning)\n"
     ]
    },
    {
     "name": "stdout",
     "output_type": "stream",
     "text": [
      "ARIMA (2, 2, 2) x (1, 2, 1, 3) : AIC Calculated =635.8762577888765\n"
     ]
    },
    {
     "name": "stderr",
     "output_type": "stream",
     "text": [
      "/Users/flatironschool/opt/anaconda3/lib/python3.7/site-packages/statsmodels/base/model.py:512: ConvergenceWarning: Maximum Likelihood optimization failed to converge. Check mle_retvals\n",
      "  \"Check mle_retvals\", ConvergenceWarning)\n"
     ]
    },
    {
     "name": "stdout",
     "output_type": "stream",
     "text": [
      "ARIMA (2, 2, 2) x (1, 2, 2, 3) : AIC Calculated =578.02036058762\n",
      "ARIMA (2, 2, 2) x (2, 1, 0, 3) : AIC Calculated =605.0716800737822\n",
      "ARIMA (2, 2, 2) x (2, 1, 1, 3) : AIC Calculated =563.1792272316173\n"
     ]
    },
    {
     "name": "stderr",
     "output_type": "stream",
     "text": [
      "/Users/flatironschool/opt/anaconda3/lib/python3.7/site-packages/statsmodels/base/model.py:512: ConvergenceWarning: Maximum Likelihood optimization failed to converge. Check mle_retvals\n",
      "  \"Check mle_retvals\", ConvergenceWarning)\n"
     ]
    },
    {
     "name": "stdout",
     "output_type": "stream",
     "text": [
      "ARIMA (2, 2, 2) x (2, 1, 2, 3) : AIC Calculated =556.1977188641443\n",
      "ARIMA (2, 2, 2) x (2, 2, 0, 3) : AIC Calculated =710.5583947124971\n"
     ]
    },
    {
     "name": "stderr",
     "output_type": "stream",
     "text": [
      "/Users/flatironschool/opt/anaconda3/lib/python3.7/site-packages/statsmodels/base/model.py:512: ConvergenceWarning: Maximum Likelihood optimization failed to converge. Check mle_retvals\n",
      "  \"Check mle_retvals\", ConvergenceWarning)\n"
     ]
    },
    {
     "name": "stdout",
     "output_type": "stream",
     "text": [
      "ARIMA (2, 2, 2) x (2, 2, 1, 3) : AIC Calculated =621.3347243364403\n",
      "ARIMA (2, 2, 2) x (2, 2, 2, 3) : AIC Calculated =584.9605457885257\n"
     ]
    },
    {
     "name": "stderr",
     "output_type": "stream",
     "text": [
      "/Users/flatironschool/opt/anaconda3/lib/python3.7/site-packages/statsmodels/base/model.py:512: ConvergenceWarning: Maximum Likelihood optimization failed to converge. Check mle_retvals\n",
      "  \"Check mle_retvals\", ConvergenceWarning)\n"
     ]
    }
   ],
   "source": [
    "ans = []\n",
    "for comb in pdq:\n",
    "    for combs in pdqs:\n",
    "        try:\n",
    "            mod = sarimax.SARIMAX(dfm['close'],\n",
    "                                  order=comb,\n",
    "                                  seasonal_order=combs,\n",
    "                                  enforce_stationarity=False,\n",
    "                                  enforce_invertibility=False)\n",
    "\n",
    "            output = mod.fit()\n",
    "            ans.append([comb, combs, output.aic])\n",
    "        except:\n",
    "            continue\n",
    "        print(f'ARIMA {comb} x {combs} : AIC Calculated ={output.aic}')"
   ]
  },
  {
   "cell_type": "code",
   "execution_count": 30,
   "metadata": {},
   "outputs": [],
   "source": [
    "#pred_d = res.get_prediction(start= pd.to_datetime('2015-01-31'), dynamic=True, full_results=True)\n",
    "#pred_d_conf = pred_d.conf_int()"
   ]
  },
  {
   "cell_type": "code",
   "execution_count": 31,
   "metadata": {},
   "outputs": [],
   "source": [
    "\n",
    "from dateutil.relativedelta import relativedelta\n",
    "import datetime\n",
    "\n",
    "start = datetime.datetime.strptime(\"2020-03-31\", \"%Y-%m-%d\")\n",
    "date_list = [start + relativedelta(months=x) for x in range(0,50)]\n",
    "future = pd.DataFrame(index=date_list, columns= dfm_full.columns)\n",
    "dfm_full = pd.concat([dfm_full, future])"
   ]
  },
  {
   "cell_type": "code",
   "execution_count": 39,
   "metadata": {},
   "outputs": [
    {
     "data": {
      "text/plain": [
       "2020-01-31    9.585699\n",
       "2020-02-29    9.761374\n",
       "2020-03-31    9.803154\n",
       "2020-04-30    9.912347\n",
       "2020-05-31    9.708412\n",
       "                ...   \n",
       "2024-09-30    8.690973\n",
       "2024-10-31    8.245404\n",
       "2024-11-30    8.185095\n",
       "2024-12-31    8.494443\n",
       "2025-01-31    8.475573\n",
       "Freq: M, Length: 61, dtype: float64"
      ]
     },
     "execution_count": 39,
     "metadata": {},
     "output_type": "execute_result"
    }
   ],
   "source": [
    "res.predict(start=240, end= 300, dynamic= True)"
   ]
  },
  {
   "cell_type": "code",
   "execution_count": 41,
   "metadata": {},
   "outputs": [
    {
     "data": {
      "text/plain": [
       "[]"
      ]
     },
     "execution_count": 41,
     "metadata": {},
     "output_type": "execute_result"
    },
    {
     "data": {
      "image/png": "[encoded data removed]",
      "text/plain": [
       "<Figure size 1152x864 with 1 Axes>"
      ]
     },
     "metadata": {
      "needs_background": "light"
     },
     "output_type": "display_data"
    }
   ],
   "source": [
    "dfm_full['forecast'] = res.get_forecast(steps=50) #res.predict(start=240, end= 300, dynamic= True) \n",
    "\n",
    "dfm_full[['close', 'forecast']].plot(figsize=(16, 12), title='Average Closing Price Forecast'); \n",
    "\n",
    "plt.plot(x_label='year')"
   ]
  },
  {
   "cell_type": "code",
   "execution_count": 42,
   "metadata": {},
   "outputs": [
    {
     "data": {
      "text/html": [
       "<div>\n",
       "<style scoped>\n",
       "    .dataframe tbody tr th:only-of-type {\n",
       "        vertical-align: middle;\n",
       "    }\n",
       "\n",
       "    .dataframe tbody tr th {\n",
       "        vertical-align: top;\n",
       "    }\n",
       "\n",
       "    .dataframe thead th {\n",
       "        text-align: right;\n",
       "    }\n",
       "</style>\n",
       "<table border=\"1\" class=\"dataframe\">\n",
       "  <thead>\n",
       "    <tr style=\"text-align: right;\">\n",
       "      <th></th>\n",
       "      <th>close</th>\n",
       "      <th>forecast</th>\n",
       "    </tr>\n",
       "  </thead>\n",
       "  <tbody>\n",
       "    <tr>\n",
       "      <td>2000-01-31</td>\n",
       "      <td>8.443364</td>\n",
       "      <td>&lt;statsmodels.tsa.statespace.mlemodel.Predictio...</td>\n",
       "    </tr>\n",
       "    <tr>\n",
       "      <td>2000-02-29</td>\n",
       "      <td>7.931450</td>\n",
       "      <td>&lt;statsmodels.tsa.statespace.mlemodel.Predictio...</td>\n",
       "    </tr>\n",
       "    <tr>\n",
       "      <td>2000-03-31</td>\n",
       "      <td>8.429478</td>\n",
       "      <td>&lt;statsmodels.tsa.statespace.mlemodel.Predictio...</td>\n",
       "    </tr>\n",
       "    <tr>\n",
       "      <td>2000-04-30</td>\n",
       "      <td>8.707368</td>\n",
       "      <td>&lt;statsmodels.tsa.statespace.mlemodel.Predictio...</td>\n",
       "    </tr>\n",
       "    <tr>\n",
       "      <td>2000-05-31</td>\n",
       "      <td>8.593955</td>\n",
       "      <td>&lt;statsmodels.tsa.statespace.mlemodel.Predictio...</td>\n",
       "    </tr>\n",
       "  </tbody>\n",
       "</table>\n",
       "</div>"
      ],
      "text/plain": [
       "               close                                           forecast\n",
       "2000-01-31  8.443364  <statsmodels.tsa.statespace.mlemodel.Predictio...\n",
       "2000-02-29  7.931450  <statsmodels.tsa.statespace.mlemodel.Predictio...\n",
       "2000-03-31  8.429478  <statsmodels.tsa.statespace.mlemodel.Predictio...\n",
       "2000-04-30  8.707368  <statsmodels.tsa.statespace.mlemodel.Predictio...\n",
       "2000-05-31  8.593955  <statsmodels.tsa.statespace.mlemodel.Predictio..."
      ]
     },
     "execution_count": 42,
     "metadata": {},
     "output_type": "execute_result"
    }
   ],
   "source": [
    "dfm_full.head()"
   ]
  },
  {
   "cell_type": "code",
   "execution_count": 40,
   "metadata": {},
   "outputs": [],
   "source": [
    "#dfm_full.iloc[240:275]"
   ]
  },
  {
   "cell_type": "code",
   "execution_count": 43,
   "metadata": {},
   "outputs": [
    {
     "data": {
      "text/plain": [
       "2020-02-29    9.688532\n",
       "2020-03-31    9.735102\n",
       "2020-04-30    9.844295\n",
       "2020-05-31    9.640361\n",
       "2020-06-30    9.476180\n",
       "2020-07-31    9.138935\n",
       "2020-08-31    9.203220\n",
       "2020-09-30    9.298627\n",
       "2020-10-31    8.920688\n",
       "2020-11-30    8.814554\n",
       "2020-12-31    9.135985\n",
       "2021-01-31    9.062439\n",
       "2021-02-28    9.287262\n",
       "2021-03-31    9.141218\n",
       "2021-04-30    9.047248\n",
       "2021-05-31    9.367331\n",
       "2021-06-30    9.513851\n",
       "2021-07-31    9.365475\n",
       "2021-08-31    9.356902\n",
       "2021-09-30    9.280919\n",
       "2021-10-31    8.687266\n",
       "2021-11-30    8.727296\n",
       "2021-12-31    9.010188\n",
       "2022-01-31    9.081098\n",
       "2022-02-28    9.272083\n",
       "2022-03-31    9.278118\n",
       "2022-04-30    9.348882\n",
       "2022-05-31    9.244067\n",
       "2022-06-30    9.138656\n",
       "2022-07-31    8.837136\n",
       "2022-08-31    8.887640\n",
       "2022-09-30    8.950628\n",
       "2022-10-31    8.531886\n",
       "2022-11-30    8.453400\n",
       "2022-12-31    8.767541\n",
       "2023-01-31    8.721319\n",
       "2023-02-28    8.939741\n",
       "2023-03-31    8.822464\n",
       "2023-04-30    8.759654\n",
       "2023-05-31    8.999366\n",
       "2023-06-30    9.098233\n",
       "2023-07-31    8.920889\n",
       "2023-08-31    8.923490\n",
       "2023-09-30    8.873794\n",
       "2023-10-31    8.313226\n",
       "2023-11-30    8.330838\n",
       "2023-12-31    8.619641\n",
       "2024-01-31    8.668396\n",
       "2024-02-29    8.864571\n",
       "2024-03-31    8.847281\n",
       "Freq: M, dtype: float64"
      ]
     },
     "execution_count": 43,
     "metadata": {},
     "output_type": "execute_result"
    }
   ],
   "source": [
    "res.forecast(steps=50)"
   ]
  },
  {
   "cell_type": "code",
   "execution_count": null,
   "metadata": {},
   "outputs": [],
   "source": [
    "r"
   ]
  },
  {
   "cell_type": "code",
   "execution_count": null,
   "metadata": {},
   "outputs": [],
   "source": []
  },
  {
   "cell_type": "code",
   "execution_count": null,
   "metadata": {},
   "outputs": [],
   "source": []
  },
  {
   "cell_type": "code",
   "execution_count": null,
   "metadata": {},
   "outputs": [],
   "source": []
  },
  {
   "cell_type": "code",
   "execution_count": null,
   "metadata": {},
   "outputs": [],
   "source": []
  },
  {
   "cell_type": "code",
   "execution_count": null,
   "metadata": {},
   "outputs": [],
   "source": []
  },
  {
   "cell_type": "code",
   "execution_count": null,
   "metadata": {},
   "outputs": [],
   "source": []
  }
 ],
 "metadata": {
  "kernelspec": {
   "display_name": "Python 3",
   "language": "python",
   "name": "python3"
  },
  "language_info": {
   "codemirror_mode": {
    "name": "ipython",
    "version": 3
   },
   "file_extension": ".py",
   "mimetype": "text/x-python",
   "name": "python",
   "nbconvert_exporter": "python",
   "pygments_lexer": "ipython3",
   "version": "3.7.4"
  }
 },
 "nbformat": 4,
 "nbformat_minor": 4
}
